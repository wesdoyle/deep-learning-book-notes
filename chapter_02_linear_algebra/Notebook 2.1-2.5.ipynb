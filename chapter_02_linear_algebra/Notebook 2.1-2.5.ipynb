{
 "cells": [
  {
   "cell_type": "code",
   "execution_count": 1,
   "metadata": {},
   "outputs": [],
   "source": [
    "import numpy as np"
   ]
  },
  {
   "cell_type": "markdown",
   "metadata": {},
   "source": [
    "# Chapter 2: Linear Algebra"
   ]
  },
  {
   "cell_type": "markdown",
   "metadata": {},
   "source": [
    "A branch of mathematics widely used throughout science and engineering.\n",
    "\n",
    "Essential for understanding and working with machine learning algorithms."
   ]
  },
  {
   "cell_type": "markdown",
   "metadata": {},
   "source": [
    "## 2.1: Scalars, Vectors, Matrices and Tensors\n",
    "\n",
    "- **Scalars**: A single number\n",
    "- **Vectors**: An array of numbers; each number is identified by its index.\n",
    "- **Matrices**: A 2D array of numbers; each number is identified by two indices\n",
    "- **Tensors**: A general, variably-dimensional array of numbers;"
   ]
  },
  {
   "cell_type": "markdown",
   "metadata": {},
   "source": [
    "### Scalars\n",
    "\n",
    "We'll use NumPy throughout these notebooks.  Numpy defines a set of fundamental scalar types.\n",
    "\n",
    "The default data type in numpy is `float_`."
   ]
  },
  {
   "cell_type": "code",
   "execution_count": 2,
   "metadata": {},
   "outputs": [
    {
     "name": "stdout",
     "output_type": "stream",
     "text": [
      "<class 'int'>\n",
      "<class 'float'>\n",
      "<class 'complex'>\n",
      "<class 'int'>\n",
      "<class 'bool'>\n",
      "<class 'bytes'>\n",
      "<class 'str'>\n",
      "<class 'memoryview'>\n",
      "<class 'numpy.int8'>\n",
      "<class 'numpy.uint8'>\n",
      "<class 'numpy.float16'>\n",
      "<class 'numpy.timedelta64'>\n",
      "<class 'numpy.object_'>\n",
      "<class 'numpy.int16'>\n",
      "<class 'numpy.uint16'>\n",
      "<class 'numpy.float32'>\n",
      "<class 'numpy.complex64'>\n",
      "<class 'numpy.bytes_'>\n",
      "<class 'numpy.int32'>\n",
      "<class 'numpy.uint32'>\n",
      "<class 'numpy.float64'>\n",
      "<class 'numpy.complex128'>\n",
      "<class 'numpy.str_'>\n",
      "<class 'numpy.int64'>\n",
      "<class 'numpy.uint64'>\n",
      "<class 'numpy.float128'>\n",
      "<class 'numpy.complex256'>\n",
      "<class 'numpy.bool_'>\n",
      "<class 'numpy.void'>\n",
      "<class 'numpy.longlong'>\n",
      "<class 'numpy.ulonglong'>\n",
      "<class 'numpy.datetime64'>\n"
     ]
    }
   ],
   "source": [
    "\"\"\"\n",
    "Some scalar numbers in Python\n",
    "\"\"\"\n",
    "x_1 = -0.000498\n",
    "x_2 = 34\n",
    "\n",
    "\"\"\"\n",
    "NumPy defines 24 scalar types.  Note in cases such as bool_ and int_,\n",
    "these are substantially different than the native Python counterparts.\n",
    "\"\"\"\n",
    "\n",
    "for t in np.ScalarType:\n",
    "    print(t)"
   ]
  },
  {
   "cell_type": "markdown",
   "metadata": {},
   "source": [
    "### Vectors\n",
    "\n",
    "NumPy’s main object is the homogeneous multidimensional array.\n",
    "\n",
    "We can represent a vector simply as a 1-dimensional array:\n",
    "\n",
    "$\\Large \\begin{bmatrix} x_1 \\\\ x_2 \\\\ \\vdots \\\\ x_n \\end{bmatrix}$"
   ]
  },
  {
   "cell_type": "code",
   "execution_count": 3,
   "metadata": {},
   "outputs": [
    {
     "name": "stdout",
     "output_type": "stream",
     "text": [
      "Representing a vector of values:\n",
      "\n",
      "[20 30 40 50]\n",
      "---\n",
      "Shape: (4,)\n",
      "Dimensions: 1\n",
      "Type: <class 'numpy.ndarray'>\n",
      "Type of values in matrix: int64\n"
     ]
    }
   ],
   "source": [
    "# Let's represent a vector:\n",
    "v_1 = np.array( [20, 30, 40, 50] )\n",
    "\n",
    "print('Representing a vector of values:\\n')\n",
    "print(v_1)\n",
    "\n",
    "print(\"---\")\n",
    "print(f'Shape: {v_1.shape}')\n",
    "print(f'Dimensions: {v_1.ndim}')\n",
    "print(f'Type: {type(v_1)}')\n",
    "print(f'Type of values in matrix: {v_1.dtype}')"
   ]
  },
  {
   "cell_type": "markdown",
   "metadata": {},
   "source": [
    "### Matrices\n",
    "\n",
    "We can continue to use the same data structure (the `ndarray` type) to build matrices, or 2-dimensional  arrays:\n",
    "\n",
    "$\\Large \\begin{bmatrix} A_{1,1} && A_{1,2} \\\\ A_{2,1} && A_{2,2} \\end{bmatrix}$"
   ]
  },
  {
   "cell_type": "code",
   "execution_count": 4,
   "metadata": {},
   "outputs": [
    {
     "name": "stdout",
     "output_type": "stream",
     "text": [
      "Representing a matrix of 1s:\n",
      "\n",
      "[[1 1 1 1 1 1 1 1]\n",
      " [1 1 1 1 1 1 1 1]\n",
      " [1 1 1 1 1 1 1 1]\n",
      " [1 1 1 1 1 1 1 1]\n",
      " [1 1 1 1 1 1 1 1]\n",
      " [1 1 1 1 1 1 1 1]\n",
      " [1 1 1 1 1 1 1 1]\n",
      " [1 1 1 1 1 1 1 1]]\n",
      "---\n",
      "Shape: (8, 8)\n",
      "Dimensions: 2\n",
      "Type: <class 'numpy.ndarray'>\n",
      "Type of values in matrix: int32\n"
     ]
    }
   ],
   "source": [
    "# Let's create a few matrices with NumPy:\n",
    "\n",
    "# An 8x8 matrix of ones of type int32\n",
    "m_1 = np.ones((8, 8), dtype=np.int32)\n",
    "\n",
    "print('Representing a matrix of 1s:\\n')\n",
    "print(m_1)\n",
    "\n",
    "print(\"---\")\n",
    "print(f'Shape: {m_1.shape}')\n",
    "print(f'Dimensions: {m_1.ndim}')\n",
    "print(f'Type: {type(m_1)}')\n",
    "print(f'Type of values in matrix: {m_1.dtype}')"
   ]
  },
  {
   "cell_type": "code",
   "execution_count": 5,
   "metadata": {},
   "outputs": [
    {
     "name": "stdout",
     "output_type": "stream",
     "text": [
      "Representing a matrix of random float64s:\n",
      "\n",
      "[[0.51182162 0.9504637  0.14415961 0.94864945 0.31183145 0.42332645]\n",
      " [0.82770259 0.40919914 0.54959369 0.02755911 0.75351311 0.53814331]]\n",
      "---\n",
      "Shape: (2, 6)\n",
      "Dimensions: 2\n",
      "Type: <class 'numpy.ndarray'>\n",
      "Type of values in matrix: float64\n"
     ]
    }
   ],
   "source": [
    "# A 2x6 matrix of random `float64s`\n",
    "# we can do this with an instance of the default random number generator\n",
    "rng = np.random.default_rng(1)\n",
    "m_2 = rng.random((2, 6))\n",
    "\n",
    "print('Representing a matrix of random float64s:\\n')\n",
    "print(m_2)\n",
    "\n",
    "print(\"---\")\n",
    "print(f'Shape: {m_2.shape}')\n",
    "print(f'Dimensions: {m_2.ndim}')\n",
    "print(f'Type: {type(m_2)}')\n",
    "print(f'Type of values in matrix: {m_2.dtype}')"
   ]
  },
  {
   "cell_type": "markdown",
   "metadata": {},
   "source": [
    "### Tensors\n",
    "\n",
    "Given that __vectors__ are just first-order __tensors__, and __matrices__ are second-order __tensors__, we can continue to use the `ndarray` type to represent n-dimensional tensors:"
   ]
  },
  {
   "cell_type": "code",
   "execution_count": 6,
   "metadata": {},
   "outputs": [
    {
     "name": "stdout",
     "output_type": "stream",
     "text": [
      "Representing a tensor:\n",
      "\n",
      "[[[0.32973172 0.7884287  0.30319483]\n",
      "  [0.45349789 0.1340417  0.40311299]\n",
      "  [0.20345524 0.26231334 0.75036467]]\n",
      "\n",
      " [[0.28040876 0.48519097 0.9807372 ]\n",
      "  [0.96165719 0.72478994 0.54122686]\n",
      "  [0.2768912  0.16065201 0.96992541]]\n",
      "\n",
      " [[0.51606859 0.11586561 0.62348976]\n",
      "  [0.77668311 0.6130033  0.9172977 ]\n",
      "  [0.03959288 0.52858926 0.45933588]]]\n",
      "---\n",
      "Shape: (3, 3, 3)\n",
      "Dimensions: 3\n",
      "Type: <class 'numpy.ndarray'>\n",
      "Type of values in tensor: float64\n"
     ]
    }
   ],
   "source": [
    "# Let's make a 3-dimensional tensor!\n",
    "t_1 = rng.random((3, 3, 3))\n",
    "\n",
    "print('Representing a tensor:\\n')\n",
    "print(t_1)\n",
    "\n",
    "print(\"---\")\n",
    "print(f'Shape: {t_1.shape}')\n",
    "print(f'Dimensions: {t_1.ndim}')\n",
    "print(f'Type: {type(t_1)}')\n",
    "print(f'Type of values in tensor: {t_1.dtype}')"
   ]
  },
  {
   "cell_type": "markdown",
   "metadata": {},
   "source": [
    "### Transpose Operation\n",
    "\n",
    "> The transpose of a matrix is the mirror image of the matrix across a diagonal line, called the __main diagonal__, running down and to the right, starting from its upper left corner.\n",
    "\n",
    "The __transpose__ of $A$ is denoted as $A^\\top$.\n",
    "\n",
    "$$\\huge (A^\\top)_{i,j} = A_{j,i}$$"
   ]
  },
  {
   "cell_type": "markdown",
   "metadata": {},
   "source": [
    "Notice in the illustration below how the transpose operation mirrors the matrix over the __main diagonal__:"
   ]
  },
  {
   "cell_type": "markdown",
   "metadata": {},
   "source": [
    "_(GitHub currently doesn't render the transposed matrix correctly, try in your own notebook for better results)_"
   ]
  },
  {
   "cell_type": "markdown",
   "metadata": {},
   "source": [
    "$$\\Large A = \\begin{bmatrix} A_{1,1} && A_{1,2}\\\\ A_{2,1} && A_{2,2} \\\\ A_{3,1} && A_{3,2} \\end{bmatrix} \\Rightarrow A^\\top = \\begin{bmatrix} A_{1,1} && A_{2,1} && A_{3,1}\\\\ A_{1,2} && A_{2,2} && A_{3,2} \\end{bmatrix} $$"
   ]
  },
  {
   "cell_type": "markdown",
   "metadata": {},
   "source": [
    "If we consider __vectors__ to be special cases of __matrices__ with only a single column, then the __transpose__ of a vector is a matrix with a single row.\n",
    "\n",
    "When writing a vector out in text (such as in a book), it's often practical to represent it as a transpose row, e.g:\n",
    "\n",
    "$$\\huge [3.2, 2.1, 9.0, 4.8]^\\top$$"
   ]
  },
  {
   "cell_type": "markdown",
   "metadata": {},
   "source": [
    "The tranpose of a __scalar__ is just itself."
   ]
  },
  {
   "cell_type": "markdown",
   "metadata": {},
   "source": [
    "With NumPy, it's easy to compute the transpose of `ndarray` types:"
   ]
  },
  {
   "cell_type": "markdown",
   "metadata": {},
   "source": [
    "### Transpose of a scalar in NumPy:"
   ]
  },
  {
   "cell_type": "code",
   "execution_count": 7,
   "metadata": {},
   "outputs": [
    {
     "name": "stdout",
     "output_type": "stream",
     "text": [
      "23.342 ()\n",
      "23.342 ()\n"
     ]
    }
   ],
   "source": [
    "# Construct a scalar value of type float64\n",
    "s_2 = np.float64(23.342)\n",
    "\n",
    "s_2_transpose = s_2.transpose()\n",
    "\n",
    "print(s_2, s_2.shape)\n",
    "print(s_2_transpose, s_2.shape)\n",
    "\n",
    "# Notice it's the same!"
   ]
  },
  {
   "cell_type": "markdown",
   "metadata": {},
   "source": [
    "### Transpose of a vector in NumPy:"
   ]
  },
  {
   "cell_type": "code",
   "execution_count": 8,
   "metadata": {},
   "outputs": [
    {
     "name": "stdout",
     "output_type": "stream",
     "text": [
      "[20 30 40 50] (4,)\n",
      "[20 30 40 50] (4,)\n"
     ]
    }
   ],
   "source": [
    "v_1_transpose = v_1.transpose()\n",
    "\n",
    "print(v_1, v_1.shape)\n",
    "print(v_1_transpose, v_1_transpose.shape)\n",
    "\n",
    "# Notice it's the same, as far as NumPy is concerned!"
   ]
  },
  {
   "cell_type": "markdown",
   "metadata": {},
   "source": [
    "### Transpose of a matrix in NumPy:"
   ]
  },
  {
   "cell_type": "code",
   "execution_count": 9,
   "metadata": {},
   "outputs": [
    {
     "name": "stdout",
     "output_type": "stream",
     "text": [
      "Original Matrix:\n",
      "[[4 7 2 0 7 1]\n",
      " [0 7 6 4 6 5]] (2, 6)\n",
      "Transposed Matrix:\n",
      "[[4 0]\n",
      " [7 7]\n",
      " [2 6]\n",
      " [0 4]\n",
      " [7 6]\n",
      " [1 5]] (6, 2)\n"
     ]
    }
   ],
   "source": [
    "m_3 = np.random.randint(8, size=(2, 6))\n",
    "m_3_transpose = m_3.transpose()\n",
    "\n",
    "print(\"Original Matrix:\")\n",
    "print(m_3, m_3.shape)\n",
    "\n",
    "print(\"Transposed Matrix:\")\n",
    "print(m_3_transpose, m_3_transpose.shape)\n",
    "\n",
    "# Notice how the shape has changed!"
   ]
  },
  {
   "cell_type": "markdown",
   "metadata": {},
   "source": [
    "### Matrix Addition - Multiple Matrices\n",
    "\n",
    "Matrices of the same shape can be added together."
   ]
  },
  {
   "cell_type": "code",
   "execution_count": 10,
   "metadata": {},
   "outputs": [],
   "source": [
    "m_4 = np.random.randint(8, size=(2, 3))\n",
    "m_5 = np.random.randint(8, size=(2, 3))"
   ]
  },
  {
   "cell_type": "code",
   "execution_count": 11,
   "metadata": {},
   "outputs": [],
   "source": [
    "m_6 = np.add(m_4, m_5)"
   ]
  },
  {
   "cell_type": "code",
   "execution_count": 12,
   "metadata": {},
   "outputs": [
    {
     "name": "stdout",
     "output_type": "stream",
     "text": [
      "[[7 4 6]\n",
      " [2 1 7]]\n"
     ]
    }
   ],
   "source": [
    "print(m_4)"
   ]
  },
  {
   "cell_type": "code",
   "execution_count": 13,
   "metadata": {},
   "outputs": [
    {
     "name": "stdout",
     "output_type": "stream",
     "text": [
      "[[0 7 3]\n",
      " [6 0 2]]\n"
     ]
    }
   ],
   "source": [
    "print(m_5)"
   ]
  },
  {
   "cell_type": "code",
   "execution_count": 14,
   "metadata": {},
   "outputs": [
    {
     "name": "stdout",
     "output_type": "stream",
     "text": [
      "[[ 7 11  9]\n",
      " [ 8  1  9]]\n"
     ]
    }
   ],
   "source": [
    "print(m_6)"
   ]
  },
  {
   "cell_type": "markdown",
   "metadata": {},
   "source": [
    "### Matrix Addition - Adding Scalars\n",
    "\n",
    "Scalars can be added to matrices by adding the scalar to each element of the matrix."
   ]
  },
  {
   "cell_type": "code",
   "execution_count": 15,
   "metadata": {},
   "outputs": [],
   "source": [
    "m_7 = 10 + m_6"
   ]
  },
  {
   "cell_type": "code",
   "execution_count": 16,
   "metadata": {},
   "outputs": [
    {
     "name": "stdout",
     "output_type": "stream",
     "text": [
      "[[17 21 19]\n",
      " [18 11 19]]\n"
     ]
    }
   ],
   "source": [
    "print(m_7)"
   ]
  },
  {
   "cell_type": "markdown",
   "metadata": {},
   "source": [
    "### Matrix Multiplication - Multiplying Scalars\n",
    "\n",
    "Matrices can be multiplied by scalars by multiplying the scalar against each element of the matrix."
   ]
  },
  {
   "cell_type": "code",
   "execution_count": 17,
   "metadata": {},
   "outputs": [],
   "source": [
    "m_8 = m_7 * 10"
   ]
  },
  {
   "cell_type": "code",
   "execution_count": 18,
   "metadata": {},
   "outputs": [
    {
     "name": "stdout",
     "output_type": "stream",
     "text": [
      "[[170 210 190]\n",
      " [180 110 190]]\n"
     ]
    }
   ],
   "source": [
    "print(m_8)"
   ]
  },
  {
   "cell_type": "markdown",
   "metadata": {},
   "source": [
    "### Matrix Broadcasting\n",
    "\n",
    "We can allow the addition of a matrix and a vector to produce a new matrix, where the vector is added to each row of the matrix."
   ]
  },
  {
   "cell_type": "code",
   "execution_count": 19,
   "metadata": {},
   "outputs": [
    {
     "name": "stdout",
     "output_type": "stream",
     "text": [
      "[[0 4 5]\n",
      " [1 2 7]\n",
      " [4 3 4]\n",
      " [1 6 3]\n",
      " [4 1 1]]\n"
     ]
    }
   ],
   "source": [
    "m_9 = np.random.randint(8, size=(5, 3))\n",
    "print(m_9)"
   ]
  },
  {
   "cell_type": "code",
   "execution_count": 20,
   "metadata": {},
   "outputs": [],
   "source": [
    "# Let's make an array (vector) to broadcast against the m_9 array (matrix):\n",
    "m_10 = [1, 2, 3]"
   ]
  },
  {
   "cell_type": "code",
   "execution_count": 21,
   "metadata": {},
   "outputs": [
    {
     "name": "stdout",
     "output_type": "stream",
     "text": [
      "[[ 1  6  8]\n",
      " [ 2  4 10]\n",
      " [ 5  5  7]\n",
      " [ 2  8  6]\n",
      " [ 5  3  4]]\n"
     ]
    }
   ],
   "source": [
    "# Now we'll broadcast the addition of m_10 over m_9:\n",
    "m_11 = m_9 + m_10\n",
    "print(m_11)"
   ]
  },
  {
   "cell_type": "markdown",
   "metadata": {},
   "source": [
    "This broadcasting of addition can be written as:\n",
    "\n",
    "$$\\huge C_{i,j} = A_{i,j} + b_j$$"
   ]
  },
  {
   "cell_type": "markdown",
   "metadata": {},
   "source": [
    "In NumPy, arrays may be broadcasted according to a set of rules:\n",
    "\n",
    "> When operating on two arrays, NumPy compares their shapes element-wise. It starts with the trailing dimensions and works its way forward. Two dimensions are compatible when\n",
    "> - they are equal, or\n",
    "> - one of them is 1\n",
    ">\n",
    "> If these conditions are not met, a ValueError: operands could not be broadcast together exception is thrown, indicating that the arrays have incompatible shapes. The size of the resulting array is the size that is not 1 along each axis of the inputs.\n",
    ">\n",
    "> (https://numpy.org/doc/stable/user/basics.broadcasting.html#general-broadcasting-rules\n",
    "\n",
    "See also: (http://www.astroml.org/book_figures/appendix/fig_broadcast_visual.html)"
   ]
  },
  {
   "cell_type": "markdown",
   "metadata": {},
   "source": [
    "## 2.2: Multiplying Matrices and Vectors\n",
    "\n",
    "Matrix multiplication is one of the most important operations involving matrices."
   ]
  },
  {
   "cell_type": "markdown",
   "metadata": {},
   "source": [
    "### Matrix Product\n",
    "\n",
    "For the matrix product:\n",
    "\n",
    "$$\\huge C = AB $$\n",
    "\n",
    "$A$ must have the same number of columns as $B$ has rows.\n",
    "\n",
    "If $A$ has a shape $(m, n)$ and $B$ has a shape $(n, p)$, then $C$ is of shape $(m,p)$"
   ]
  },
  {
   "cell_type": "markdown",
   "metadata": {},
   "source": [
    "The *matrix product* operation is defined as:\n",
    "\n",
    "$$\\huge C_{i,j} = \\sum_{k}A_{i,k}B_{k,j}$$"
   ]
  },
  {
   "cell_type": "code",
   "execution_count": 22,
   "metadata": {},
   "outputs": [
    {
     "name": "stdout",
     "output_type": "stream",
     "text": [
      "[[8 4]\n",
      " [5 2]]\n"
     ]
    }
   ],
   "source": [
    "# Matrix Multiplication in NumPy:\n",
    "\n",
    "A = np.array([[1, 0, 0],\n",
    "              [0, 1, 1]])\n",
    "\n",
    "B = np.array([[8, 4],\n",
    "              [4, 2],\n",
    "              [1, 0]])\n",
    "\n",
    "C = np.matmul(A, B)\n",
    "\n",
    "print(C)"
   ]
  },
  {
   "cell_type": "markdown",
   "metadata": {},
   "source": [
    "It's important to make a distinction between the **matrix prouct**, as defined above, and the **Hadamard product**, which is an **element-wise product**.  The **Hadmard product** is denoted as $A \\odot B$"
   ]
  },
  {
   "cell_type": "code",
   "execution_count": 23,
   "metadata": {},
   "outputs": [
    {
     "name": "stdout",
     "output_type": "stream",
     "text": [
      "[[2 0 0]\n",
      " [0 2 2]]\n"
     ]
    }
   ],
   "source": [
    "# Hadamard product in NumPy:\n",
    "\n",
    "A = np.array([[1, 0, 0],\n",
    "              [0, 1, 1]])\n",
    "\n",
    "B = np.array([[2, 2, 2],\n",
    "              [2, 2, 2]])\n",
    "\n",
    "C = np.multiply(A, B)\n",
    "\n",
    "print(C)"
   ]
  },
  {
   "cell_type": "markdown",
   "metadata": {},
   "source": [
    "### Dot Product\n",
    "\n",
    "The **dot product** of two vectors $x$ and $y$ is the **matrix product** $x^\\top y$"
   ]
  },
  {
   "cell_type": "code",
   "execution_count": 24,
   "metadata": {},
   "outputs": [
    {
     "name": "stdout",
     "output_type": "stream",
     "text": [
      "[[8 4]\n",
      " [5 2]]\n",
      "[[8 4]\n",
      " [5 2]]\n"
     ]
    }
   ],
   "source": [
    "# Dot Product in NumPy\n",
    "\n",
    "# For 2-D arrays it is the same as the matrix product:\n",
    "\n",
    "A = np.array([[1, 0, 0],\n",
    "              [0, 1, 1]])\n",
    "\n",
    "B = np.array([[8, 4],\n",
    "              [4, 2],\n",
    "              [1, 0]])\n",
    "\n",
    "C = np.dot(A, B)\n",
    "\n",
    "# Alternative syntax\n",
    "C_alt = A.dot(B)\n",
    "\n",
    "print(C)\n",
    "\n",
    "print(C_alt)"
   ]
  },
  {
   "cell_type": "markdown",
   "metadata": {},
   "source": [
    "### Other Useful Properties of Matrix Product Operations\n",
    "\n",
    "There are many useful properties of matrix product operations.  Here are a few mentioned in the book:"
   ]
  },
  {
   "cell_type": "markdown",
   "metadata": {},
   "source": [
    "### Distributive:\n",
    "\n",
    "$$\\large A(B+C) = AB + AC$$"
   ]
  },
  {
   "cell_type": "code",
   "execution_count": 25,
   "metadata": {},
   "outputs": [
    {
     "name": "stdout",
     "output_type": "stream",
     "text": [
      "True\n"
     ]
    }
   ],
   "source": [
    "# Demonstration of the Distributive property of Matrix Multiplication using NumPy:\n",
    "\n",
    "A = np.array([[1, 0, 0],\n",
    "              [0, 1, 1]])\n",
    "\n",
    "B = np.array([[8, 4],\n",
    "              [4, 2],\n",
    "              [1, 0]])\n",
    "\n",
    "C = np.array([[8, 4],\n",
    "              [4, 2],\n",
    "              [1, 0]])\n",
    "\n",
    "def assert_distributive(A, B, C):\n",
    "    Y_1 = np.dot(A, B + C)\n",
    "    Y_2 = np.dot(A, B) + np.dot(A, C)\n",
    "    if np.array_equal(Y_1, Y_2):\n",
    "        return True\n",
    "    return False\n",
    "    \n",
    "print(assert_distributive(A, B, C))"
   ]
  },
  {
   "cell_type": "markdown",
   "metadata": {},
   "source": [
    "### Associative:\n",
    "\n",
    "$$\\large A(BC) = (AB)C$$"
   ]
  },
  {
   "cell_type": "code",
   "execution_count": 26,
   "metadata": {},
   "outputs": [
    {
     "name": "stdout",
     "output_type": "stream",
     "text": [
      "True\n"
     ]
    }
   ],
   "source": [
    "# Demonstration of the Associative property of Matrix Multiplication in NumPy:\n",
    "\n",
    "A = np.array([[1, 2],\n",
    "              [1, 4],\n",
    "              [1, 8]])\n",
    "\n",
    "B = np.array([[1, 2, 2],\n",
    "              [0, 1, 1]])\n",
    "\n",
    "C = np.array([[8, 4],\n",
    "              [4, 2],\n",
    "              [1, 0]])\n",
    "\n",
    "def assert_associative(A, B, C):\n",
    "    Y_1 = A.dot(B.dot(C))\n",
    "    Y_2 = np.dot(A, B).dot(C)\n",
    "    if np.array_equal(Y_1, Y_2):\n",
    "        return True\n",
    "    return False\n",
    "    \n",
    "print(assert_associative(A, B, C))"
   ]
  },
  {
   "cell_type": "markdown",
   "metadata": {},
   "source": [
    "### Dot Product of two Vectors  (1-D Tensors) is Commutative\n",
    "\n",
    "$$\\large x^\\top y = y^\\top x$$"
   ]
  },
  {
   "cell_type": "code",
   "execution_count": 27,
   "metadata": {},
   "outputs": [
    {
     "name": "stdout",
     "output_type": "stream",
     "text": [
      "Shape of A:  (20,)\n",
      "Shape of B:  (20,)\n",
      "A:  [ 0  1  2  3  4  5  6  7  8  9 10 11 12 13 14 15 16 17 18 19]\n",
      "B:  [ 0  1  2  3  4  5  6  7  8  9 10 11 12 13 14 15 16 17 18 19]\n",
      "C_1 and C_2:\n",
      "2470\n",
      "2470\n",
      "True\n"
     ]
    }
   ],
   "source": [
    "# Demonstration of the commutative property of the dot product using NumPy:\n",
    "\n",
    "# Here we can look at NumPy's arange to return a vector of evenly-spaced values at a given interval\n",
    "\n",
    "A = np.arange(0, 20)\n",
    "B = np.arange(0, 20)\n",
    "\n",
    "def assert_dot_product_vectors_commutative(A, B):\n",
    "    Y_1 = A.dot(B)\n",
    "    Y_2 = B.dot(A)\n",
    "    if np.array_equal(Y_1, Y_2):\n",
    "        return True\n",
    "    return False\n",
    "    \n",
    "print(\"Shape of A: \", A.shape)\n",
    "print(\"Shape of B: \", A.shape)\n",
    "print(\"A: \", A)\n",
    "print(\"B: \", B)\n",
    "\n",
    "print(\"C_1 and C_2:\")\n",
    "C_1 = A.dot(B)\n",
    "C_2 = B.dot(A)\n",
    "print(C_1)\n",
    "print(C_2)\n",
    "\n",
    "print(assert_dot_product_vectors_commutative(A, B))"
   ]
  },
  {
   "cell_type": "markdown",
   "metadata": {},
   "source": [
    "### The transpose of the product of two matrices is equivalent to the product of their transposes reversed\n",
    "\n",
    "$$\\large (AB)^\\top = B^\\top A^\\top$$"
   ]
  },
  {
   "cell_type": "code",
   "execution_count": 28,
   "metadata": {},
   "outputs": [
    {
     "name": "stdout",
     "output_type": "stream",
     "text": [
      "True\n",
      "[[8 5]\n",
      " [4 2]]\n",
      "[[8 5]\n",
      " [4 2]]\n"
     ]
    }
   ],
   "source": [
    "# Demonstration of commutative property of transpose in NumPy:\n",
    "\n",
    "A = np.array([[1, 0, 0],\n",
    "              [0, 1, 1]])\n",
    "\n",
    "B = np.array([[8, 4],\n",
    "              [4, 2],\n",
    "              [1, 0]])\n",
    "\n",
    "def assert_transpose_commutative(A, B):\n",
    "    Y_1 = np.matmul(A, B).T\n",
    "    Y_2 = B.T.dot(A.T)\n",
    "    if np.array_equal(Y_1, Y_2):\n",
    "        return True\n",
    "    return False\n",
    "    \n",
    "print(assert_transpose_commutative(A, B))\n",
    "      \n",
    "Y_1 = A.dot(B).T\n",
    "Y_2 = B.T.dot(A.T)\n",
    "\n",
    "print(Y_1)\n",
    "print(Y_2)"
   ]
  },
  {
   "cell_type": "markdown",
   "metadata": {},
   "source": [
    "## 2.3: Identity and Inverse Matrices\n",
    "\n",
    "We can express a system of linear equations with matrices using the form\n",
    "\n",
    "$$\\huge Ax = b$$\n",
    "\n",
    "where:\n",
    "- $ A \\in \\mathbb{R}^{m \\times n}$ is a known matrix\n",
    "- $ b \\in \\mathbb{R}^{n} $ is a known vector, and\n",
    "- $ x \\in \\mathbb{R}^{n} $ is a vector of unknown variables to be solved for\n",
    "\n",
    "Each element $x_{i}$ of $x$ is one of these unknown variables.\n",
    "\n",
    "Each row of $A$ and each element of $b$ provide another constraint.\n",
    "\n",
    "We can use **matrix inversion** to analytically solve this equation for many values of $A$.  **Matrix inversion** can be accomplished using the **identity matrix**."
   ]
  },
  {
   "cell_type": "markdown",
   "metadata": {},
   "source": [
    "An identity matrix $I_{3}$.  This probably doesn't display correctly on GitHub, but it should render properly in a local Jupyter notebook.\n",
    "\n",
    "$$\\Large \\begin{bmatrix} 1 && 0 && 0 \\\\ 0 && 1 && 0 \\\\ 0 && 0 && 1 \\end{bmatrix}$$"
   ]
  },
  {
   "cell_type": "markdown",
   "metadata": {},
   "source": [
    "> In linear algebra, the identity matrix of size n is the n × n square matrix with ones on the main diagonal and zeros elsewhere. [Wikipedia - Identity Matrix](https://en.wikipedia.org/wiki/Identity_matrix)\n",
    "\n",
    "When a vector is multiplied by an identity matrix, the result is equivalent to the vector. I.e.:\n",
    "\n",
    "$$\\huge \\forall x \\in \\mathbb{R}^{n}, I_{n}x = x$$\n",
    "\n",
    "This is to say that for the identity matrix $I_n \\in \\mathbb{R}^{n \\times n}$, and all vectors $x$ containing real numbers, $I_n$ multiplied by that vector equals that vector."
   ]
  },
  {
   "cell_type": "code",
   "execution_count": 29,
   "metadata": {},
   "outputs": [
    {
     "name": "stdout",
     "output_type": "stream",
     "text": [
      "[[1. 0. 0.]\n",
      " [0. 1. 0.]\n",
      " [0. 0. 1.]]\n"
     ]
    }
   ],
   "source": [
    "# In NumPy, we can easily generate an identity matrix:\n",
    "\n",
    "print(np.identity(3))"
   ]
  },
  {
   "cell_type": "code",
   "execution_count": 30,
   "metadata": {},
   "outputs": [
    {
     "name": "stdout",
     "output_type": "stream",
     "text": [
      "[[1. 0. 0. 0. 0. 0. 0. 0. 0.]\n",
      " [0. 1. 0. 0. 0. 0. 0. 0. 0.]\n",
      " [0. 0. 1. 0. 0. 0. 0. 0. 0.]]\n",
      "^ not an identity matrix!\n"
     ]
    }
   ],
   "source": [
    "# Note that under the hood, np.identity calls np.eye, which provides an matrix with zeros on the diagonal,\n",
    "# but with the ability to offset the diagonal and provide matrices of different shapes than the square \n",
    "# identity matrix.  Thus, np.identity is a special case of np.eye\n",
    "\n",
    "print(np.eye(3, 9, 0))\n",
    "print(\"^ not an identity matrix!\")"
   ]
  },
  {
   "cell_type": "markdown",
   "metadata": {},
   "source": [
    "The **matrix inverse** of a matrix $A$ is denoted as $A^{-1}$.  Thus, \n",
    "\n",
    "$$ \\huge A^{-1}A = I_{n} $$\n",
    "\n",
    "I.e. When we multiply a **matrix** by its **inverse**, we get the **identity matrix**."
   ]
  },
  {
   "cell_type": "markdown",
   "metadata": {},
   "source": [
    "The steps to solve the equation $ Ax=b $ are as follows:"
   ]
  },
  {
   "cell_type": "markdown",
   "metadata": {},
   "source": [
    "1.) $Ax = b$\n",
    "\n",
    "2.) $A^{-1}Ax = A^{-1}b$\n",
    "\n",
    "3.) $I_{n}x = A^{-1}b$\n",
    "\n",
    "4.) $x=A^{-1}b$"
   ]
  },
  {
   "cell_type": "markdown",
   "metadata": {},
   "source": [
    "All of this depends on the possibility that $A^{-1}$ exists and can be found.  Due to the limits of the precision of representing real numbers digitally, using $A^{-1}$ is generally not the best tool for the job when solving systems of equations using computation."
   ]
  },
  {
   "cell_type": "markdown",
   "metadata": {},
   "source": [
    "## 2.4: Linear Dependence and Span\n",
    "\n"
   ]
  },
  {
   "cell_type": "code",
   "execution_count": null,
   "metadata": {},
   "outputs": [],
   "source": []
  }
 ],
 "metadata": {
  "kernelspec": {
   "display_name": "Python 3",
   "language": "python",
   "name": "python3"
  },
  "language_info": {
   "codemirror_mode": {
    "name": "ipython",
    "version": 3
   },
   "file_extension": ".py",
   "mimetype": "text/x-python",
   "name": "python",
   "nbconvert_exporter": "python",
   "pygments_lexer": "ipython3",
   "version": "3.8.5"
  }
 },
 "nbformat": 4,
 "nbformat_minor": 4
}
