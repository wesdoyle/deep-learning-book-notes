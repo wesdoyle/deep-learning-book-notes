{
 "cells": [
  {
   "cell_type": "code",
   "execution_count": 1,
   "metadata": {},
   "outputs": [],
   "source": [
    "import numpy as np\n",
    "import pandas as pd"
   ]
  },
  {
   "cell_type": "markdown",
   "metadata": {},
   "source": [
    "# Chapter 2: Linear Algebra"
   ]
  },
  {
   "cell_type": "markdown",
   "metadata": {},
   "source": [
    "A branch of mathematics widely used throughout science and engineering.\n",
    "\n",
    "Essential for understanding and working with machine learning algorithms."
   ]
  },
  {
   "cell_type": "markdown",
   "metadata": {},
   "source": [
    "## 2.1: Scalars, Vectors, Matrices and Tensors\n",
    "\n",
    "- **Scalars**: A single number\n",
    "- **Vectors**: An array of numbers; each number is identified by its index.\n",
    "- **Matrices**: A 2D array of numbers; each number is identified by two indices\n",
    "- **Tensors**: A general, variably-dimensional array of numbers;"
   ]
  },
  {
   "cell_type": "markdown",
   "metadata": {},
   "source": [
    "### Scalars\n",
    "\n",
    "We'll use NumPy throughout these notebooks.  Numpy defines a set of fundamental scalar types.\n",
    "\n",
    "The default data type in numpy is `float_`."
   ]
  },
  {
   "cell_type": "code",
   "execution_count": 2,
   "metadata": {},
   "outputs": [
    {
     "name": "stdout",
     "output_type": "stream",
     "text": [
      "<class 'int'>\n",
      "<class 'float'>\n",
      "<class 'complex'>\n",
      "<class 'int'>\n",
      "<class 'bool'>\n",
      "<class 'bytes'>\n",
      "<class 'str'>\n",
      "<class 'memoryview'>\n",
      "<class 'numpy.int8'>\n",
      "<class 'numpy.uint8'>\n",
      "<class 'numpy.float16'>\n",
      "<class 'numpy.timedelta64'>\n",
      "<class 'numpy.object_'>\n",
      "<class 'numpy.int16'>\n",
      "<class 'numpy.uint16'>\n",
      "<class 'numpy.float32'>\n",
      "<class 'numpy.complex64'>\n",
      "<class 'numpy.bytes_'>\n",
      "<class 'numpy.int32'>\n",
      "<class 'numpy.uint32'>\n",
      "<class 'numpy.float64'>\n",
      "<class 'numpy.complex128'>\n",
      "<class 'numpy.str_'>\n",
      "<class 'numpy.int64'>\n",
      "<class 'numpy.uint64'>\n",
      "<class 'numpy.float128'>\n",
      "<class 'numpy.complex256'>\n",
      "<class 'numpy.bool_'>\n",
      "<class 'numpy.void'>\n",
      "<class 'numpy.longlong'>\n",
      "<class 'numpy.ulonglong'>\n",
      "<class 'numpy.datetime64'>\n"
     ]
    }
   ],
   "source": [
    "\"\"\"\n",
    "Some scalar numbers in Python\n",
    "\"\"\"\n",
    "x_1 = -0.000498\n",
    "x_2 = 34\n",
    "\n",
    "\"\"\"\n",
    "NumPy defines 24 scalar types.  Note in cases such as bool_ and int_,\n",
    "these are substantially different than the native Python counterparts.\n",
    "\"\"\"\n",
    "\n",
    "for t in np.ScalarType:\n",
    "    print(t)"
   ]
  },
  {
   "cell_type": "markdown",
   "metadata": {},
   "source": [
    "### Vectors\n",
    "\n",
    "NumPy’s main object is the homogeneous multidimensional array.\n",
    "\n",
    "We can represent a vector simply as a 1-dimensional array:\n",
    "\n",
    "$\\Large \\begin{bmatrix} x_1 \\\\ x_2 \\\\ \\vdots \\\\ x_n \\end{bmatrix}$"
   ]
  },
  {
   "cell_type": "code",
   "execution_count": 3,
   "metadata": {},
   "outputs": [
    {
     "name": "stdout",
     "output_type": "stream",
     "text": [
      "Representing a vector of values:\n",
      "\n",
      "[20 30 40 50]\n",
      "---\n",
      "Shape: (4,)\n",
      "Dimensions: 1\n",
      "Type: <class 'numpy.ndarray'>\n",
      "Type of values in matrix: int64\n"
     ]
    }
   ],
   "source": [
    "# Let's represent a vector:\n",
    "v_1 = np.array( [20, 30, 40, 50] )\n",
    "\n",
    "print('Representing a vector of values:\\n')\n",
    "print(v_1)\n",
    "\n",
    "print(\"---\")\n",
    "print(f'Shape: {v_1.shape}')\n",
    "print(f'Dimensions: {v_1.ndim}')\n",
    "print(f'Type: {type(v_1)}')\n",
    "print(f'Type of values in matrix: {v_1.dtype}')"
   ]
  },
  {
   "cell_type": "markdown",
   "metadata": {},
   "source": [
    "### Matrices\n",
    "\n",
    "We can continue to use the same data structure (the `ndarray` type) to build matrices, or 2-dimensional  arrays:\n",
    "\n",
    "$\\Large \\begin{bmatrix} A_{1,1} && A_{1,2} \\\\ A_{2,1} && A_{2,2} \\end{bmatrix}$"
   ]
  },
  {
   "cell_type": "code",
   "execution_count": 4,
   "metadata": {},
   "outputs": [
    {
     "name": "stdout",
     "output_type": "stream",
     "text": [
      "Representing a matrix of 1s:\n",
      "\n",
      "[[1 1 1 1 1 1 1 1]\n",
      " [1 1 1 1 1 1 1 1]\n",
      " [1 1 1 1 1 1 1 1]\n",
      " [1 1 1 1 1 1 1 1]\n",
      " [1 1 1 1 1 1 1 1]\n",
      " [1 1 1 1 1 1 1 1]\n",
      " [1 1 1 1 1 1 1 1]\n",
      " [1 1 1 1 1 1 1 1]]\n",
      "---\n",
      "Shape: (8, 8)\n",
      "Dimensions: 2\n",
      "Type: <class 'numpy.ndarray'>\n",
      "Type of values in matrix: int32\n"
     ]
    }
   ],
   "source": [
    "# Let's create a few matrices with NumPy:\n",
    "\n",
    "# An 8x8 matrix of ones of type int32\n",
    "m_1 = np.ones((8, 8), dtype=np.int32)\n",
    "\n",
    "print('Representing a matrix of 1s:\\n')\n",
    "print(m_1)\n",
    "\n",
    "print(\"---\")\n",
    "print(f'Shape: {m_1.shape}')\n",
    "print(f'Dimensions: {m_1.ndim}')\n",
    "print(f'Type: {type(m_1)}')\n",
    "print(f'Type of values in matrix: {m_1.dtype}')"
   ]
  },
  {
   "cell_type": "code",
   "execution_count": 5,
   "metadata": {},
   "outputs": [
    {
     "name": "stdout",
     "output_type": "stream",
     "text": [
      "Representing a matrix of random float64s:\n",
      "\n",
      "[[0.51182162 0.9504637  0.14415961 0.94864945 0.31183145 0.42332645]\n",
      " [0.82770259 0.40919914 0.54959369 0.02755911 0.75351311 0.53814331]]\n",
      "---\n",
      "Shape: (2, 6)\n",
      "Dimensions: 2\n",
      "Type: <class 'numpy.ndarray'>\n",
      "Type of values in matrix: float64\n"
     ]
    }
   ],
   "source": [
    "# A 2x6 matrix of random `float64s`\n",
    "# we can do this with an instance of the default random number generator\n",
    "rng = np.random.default_rng(1)\n",
    "m_2 = rng.random((2, 6))\n",
    "\n",
    "print('Representing a matrix of random float64s:\\n')\n",
    "print(m_2)\n",
    "\n",
    "print(\"---\")\n",
    "print(f'Shape: {m_2.shape}')\n",
    "print(f'Dimensions: {m_2.ndim}')\n",
    "print(f'Type: {type(m_2)}')\n",
    "print(f'Type of values in matrix: {m_2.dtype}')"
   ]
  },
  {
   "cell_type": "markdown",
   "metadata": {},
   "source": [
    "### Tensors\n",
    "\n",
    "Given that __vectors__ are just first-order __tensors__, and __matrices__ are second-order __tensors__, we can continue to use the `ndarray` type to represent n-dimensional tensors:"
   ]
  },
  {
   "cell_type": "code",
   "execution_count": 6,
   "metadata": {},
   "outputs": [
    {
     "name": "stdout",
     "output_type": "stream",
     "text": [
      "Representing a tensor:\n",
      "\n",
      "[[[0.32973172 0.7884287  0.30319483]\n",
      "  [0.45349789 0.1340417  0.40311299]\n",
      "  [0.20345524 0.26231334 0.75036467]]\n",
      "\n",
      " [[0.28040876 0.48519097 0.9807372 ]\n",
      "  [0.96165719 0.72478994 0.54122686]\n",
      "  [0.2768912  0.16065201 0.96992541]]\n",
      "\n",
      " [[0.51606859 0.11586561 0.62348976]\n",
      "  [0.77668311 0.6130033  0.9172977 ]\n",
      "  [0.03959288 0.52858926 0.45933588]]]\n",
      "---\n",
      "Shape: (3, 3, 3)\n",
      "Dimensions: 3\n",
      "Type: <class 'numpy.ndarray'>\n",
      "Type of values in tensor: float64\n"
     ]
    }
   ],
   "source": [
    "# Let's make a 3-dimensional tensor!\n",
    "t_1 = rng.random((3, 3, 3))\n",
    "\n",
    "print('Representing a tensor:\\n')\n",
    "print(t_1)\n",
    "\n",
    "print(\"---\")\n",
    "print(f'Shape: {t_1.shape}')\n",
    "print(f'Dimensions: {t_1.ndim}')\n",
    "print(f'Type: {type(t_1)}')\n",
    "print(f'Type of values in tensor: {t_1.dtype}')"
   ]
  },
  {
   "cell_type": "markdown",
   "metadata": {},
   "source": [
    "### Transpose Operation\n",
    "\n",
    "> The transpose of a matrix is the mirror image of the matrix across a diagonal line, called the __main diagonal__, running down and to the right, starting from its upper left corner.\n",
    "\n",
    "The __transpose__ of $A$ is denoted as $A^\\top$.\n",
    "\n",
    "$$\\Huge (A^\\top)_{i,j} = A_{j,i}$$"
   ]
  },
  {
   "cell_type": "markdown",
   "metadata": {},
   "source": [
    "Notice in the illustration below how the transpose operation mirrors the matrix over the __main diagonal__:"
   ]
  },
  {
   "cell_type": "markdown",
   "metadata": {},
   "source": [
    "$$\\large A = \\begin{bmatrix} A_{1,1} && A_{1,2} \\\\ A_{2,1} && A_{2,2} \\\\ A_{3,1} && A_{3,2} \\end{bmatrix} \\Rightarrow A^\\top =  \\begin{bmatrix} A_{1,1} && A_{2,1} && A_{3,1} \\\\ A_{1,2} && A_{2,2} && A_{3,2} \\end{bmatrix} $$"
   ]
  },
  {
   "cell_type": "markdown",
   "metadata": {},
   "source": [
    "If we consider __vectors__ to be special cases of __matrices__ with only a single column, then the __transpose__ of a vector is a matrix with a single row.\n",
    "\n",
    "When writing a vector out in text (such as in a book), it's often practical to represent it as a transpose row, e.g:\n",
    "\n",
    "$$\\large [3.2, 2.1, 9.0, 4.8]^\\top$$"
   ]
  },
  {
   "cell_type": "markdown",
   "metadata": {},
   "source": [
    "The tranpose of a __scalar__ is just itself."
   ]
  },
  {
   "cell_type": "markdown",
   "metadata": {},
   "source": [
    "With NumPy, it's easy to compute the transpose of `ndarray` types:"
   ]
  },
  {
   "cell_type": "markdown",
   "metadata": {},
   "source": [
    "### Transpose of a scalar in NumPy:"
   ]
  },
  {
   "cell_type": "code",
   "execution_count": 32,
   "metadata": {},
   "outputs": [
    {
     "name": "stdout",
     "output_type": "stream",
     "text": [
      "23.342 ()\n",
      "23.342 ()\n"
     ]
    }
   ],
   "source": [
    "# Construct a scalar value of type float64\n",
    "s_2 = np.float64(23.342)\n",
    "\n",
    "s_2_transpose = s_2.transpose()\n",
    "\n",
    "print(s_2, s_2.shape)\n",
    "print(s_2_transpose, s_2.shape)\n",
    "\n",
    "# Notice it's the same!"
   ]
  },
  {
   "cell_type": "markdown",
   "metadata": {},
   "source": [
    "### Transpose of a vector in NumPy:"
   ]
  },
  {
   "cell_type": "code",
   "execution_count": 34,
   "metadata": {},
   "outputs": [
    {
     "name": "stdout",
     "output_type": "stream",
     "text": [
      "[20 30 40 50] (4,)\n",
      "[20 30 40 50] (4,)\n"
     ]
    }
   ],
   "source": [
    "v_1_transpose = v_1.transpose()\n",
    "\n",
    "print(v_1, v_1.shape)\n",
    "print(v_1_transpose, v_1_transpose.shape)\n",
    "\n",
    "# Notice it's the same, as far as NumPy is concerned!"
   ]
  },
  {
   "cell_type": "markdown",
   "metadata": {},
   "source": [
    "### Transpose of a matrix in NumPy:"
   ]
  },
  {
   "cell_type": "code",
   "execution_count": 41,
   "metadata": {},
   "outputs": [
    {
     "name": "stdout",
     "output_type": "stream",
     "text": [
      "Original Matrix:\n",
      "[[1 1 4 2 3 5]\n",
      " [1 7 7 4 6 1]] (2, 6)\n",
      "Transposed Matrix:\n",
      "[[1 1]\n",
      " [1 7]\n",
      " [4 7]\n",
      " [2 4]\n",
      " [3 6]\n",
      " [5 1]] (6, 2)\n"
     ]
    }
   ],
   "source": [
    "m_3 = np.random.randint(8, size=(2, 6))\n",
    "m_3_transpose = m_3.transpose()\n",
    "\n",
    "print(\"Original Matrix:\")\n",
    "print(m_3, m_3.shape)\n",
    "\n",
    "print(\"Transposed Matrix:\")\n",
    "print(m_3_transpose, m_3_transpose.shape)\n",
    "\n",
    "# Notice how the shape has changed!"
   ]
  },
  {
   "cell_type": "code",
   "execution_count": null,
   "metadata": {},
   "outputs": [],
   "source": []
  }
 ],
 "metadata": {
  "kernelspec": {
   "display_name": "Python 3",
   "language": "python",
   "name": "python3"
  },
  "language_info": {
   "codemirror_mode": {
    "name": "ipython",
    "version": 3
   },
   "file_extension": ".py",
   "mimetype": "text/x-python",
   "name": "python",
   "nbconvert_exporter": "python",
   "pygments_lexer": "ipython3",
   "version": "3.8.5"
  }
 },
 "nbformat": 4,
 "nbformat_minor": 4
}
