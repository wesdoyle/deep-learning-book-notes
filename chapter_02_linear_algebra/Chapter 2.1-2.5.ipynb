{
 "cells": [
  {
   "cell_type": "code",
   "execution_count": 1,
   "metadata": {},
   "outputs": [],
   "source": [
    "import numpy as np"
   ]
  },
  {
   "cell_type": "markdown",
   "metadata": {},
   "source": [
    "# Chapter 2: Linear Algebra"
   ]
  },
  {
   "cell_type": "markdown",
   "metadata": {},
   "source": [
    "A branch of mathematics widely used throughout science and engineering.\n",
    "\n",
    "Essential for understanding and working with machine learning algorithms."
   ]
  },
  {
   "cell_type": "markdown",
   "metadata": {},
   "source": [
    "## 2.1: Scalars, Vectors, Matrices and Tensors\n",
    "\n",
    "- **Scalars**: A single number\n",
    "- **Vectors**: An array of numbers; each number is identified by its index.\n",
    "- **Matrices**: A 2D array of numbers; each number is identified by two indices\n",
    "- **Tensors**: A general, variably-dimensional array of numbers;"
   ]
  },
  {
   "cell_type": "markdown",
   "metadata": {},
   "source": [
    "### Scalars\n",
    "\n",
    "We'll use NumPy throughout these notebooks.  Numpy defines a set of fundamental scalar types.\n",
    "\n",
    "The default data type in numpy is `float_`."
   ]
  },
  {
   "cell_type": "code",
   "execution_count": 2,
   "metadata": {},
   "outputs": [
    {
     "name": "stdout",
     "output_type": "stream",
     "text": [
      "<class 'int'>\n",
      "<class 'float'>\n",
      "<class 'complex'>\n",
      "<class 'int'>\n",
      "<class 'bool'>\n",
      "<class 'bytes'>\n",
      "<class 'str'>\n",
      "<class 'memoryview'>\n",
      "<class 'numpy.int8'>\n",
      "<class 'numpy.uint8'>\n",
      "<class 'numpy.float16'>\n",
      "<class 'numpy.timedelta64'>\n",
      "<class 'numpy.object_'>\n",
      "<class 'numpy.int16'>\n",
      "<class 'numpy.uint16'>\n",
      "<class 'numpy.float32'>\n",
      "<class 'numpy.complex64'>\n",
      "<class 'numpy.bytes_'>\n",
      "<class 'numpy.int32'>\n",
      "<class 'numpy.uint32'>\n",
      "<class 'numpy.float64'>\n",
      "<class 'numpy.complex128'>\n",
      "<class 'numpy.str_'>\n",
      "<class 'numpy.int64'>\n",
      "<class 'numpy.uint64'>\n",
      "<class 'numpy.float128'>\n",
      "<class 'numpy.complex256'>\n",
      "<class 'numpy.bool_'>\n",
      "<class 'numpy.void'>\n",
      "<class 'numpy.longlong'>\n",
      "<class 'numpy.ulonglong'>\n",
      "<class 'numpy.datetime64'>\n"
     ]
    }
   ],
   "source": [
    "\"\"\"\n",
    "Some scalar numbers in Python\n",
    "\"\"\"\n",
    "x_1 = -0.000498\n",
    "x_2 = 34\n",
    "\n",
    "\"\"\"\n",
    "NumPy defines 24 scalar types.  Note in cases such as bool_ and int_,\n",
    "these are substantially different than the native Python counterparts.\n",
    "\"\"\"\n",
    "\n",
    "for t in np.ScalarType:\n",
    "    print(t)"
   ]
  },
  {
   "cell_type": "markdown",
   "metadata": {},
   "source": [
    "### Vectors\n",
    "\n",
    "NumPy’s main object is the homogeneous multidimensional array.\n",
    "\n",
    "We can represent a vector simply as a 1-dimensional array:\n",
    "\n",
    "$\\Large \\begin{bmatrix} x_1 \\\\ x_2 \\\\ \\vdots \\\\ x_n \\end{bmatrix}$"
   ]
  },
  {
   "cell_type": "code",
   "execution_count": 3,
   "metadata": {},
   "outputs": [
    {
     "name": "stdout",
     "output_type": "stream",
     "text": [
      "Representing a vector of values:\n",
      "\n",
      "[20 30 40 50]\n",
      "---\n",
      "Shape: (4,)\n",
      "Dimensions: 1\n",
      "Type: <class 'numpy.ndarray'>\n",
      "Type of values in matrix: int64\n"
     ]
    }
   ],
   "source": [
    "# Let's represent a vector:\n",
    "v_1 = np.array( [20, 30, 40, 50] )\n",
    "\n",
    "print('Representing a vector of values:\\n')\n",
    "print(v_1)\n",
    "\n",
    "print(\"---\")\n",
    "print(f'Shape: {v_1.shape}')\n",
    "print(f'Dimensions: {v_1.ndim}')\n",
    "print(f'Type: {type(v_1)}')\n",
    "print(f'Type of values in matrix: {v_1.dtype}')"
   ]
  },
  {
   "cell_type": "markdown",
   "metadata": {},
   "source": [
    "### Matrices\n",
    "\n",
    "We can continue to use the same data structure (the `ndarray` type) to build matrices, or 2-dimensional  arrays:\n",
    "\n",
    "$\\Large \\begin{bmatrix} A_{1,1} && A_{1,2} \\\\ A_{2,1} && A_{2,2} \\end{bmatrix}$"
   ]
  },
  {
   "cell_type": "code",
   "execution_count": 4,
   "metadata": {},
   "outputs": [
    {
     "name": "stdout",
     "output_type": "stream",
     "text": [
      "Representing a matrix of 1s:\n",
      "\n",
      "[[1 1 1 1 1 1 1 1]\n",
      " [1 1 1 1 1 1 1 1]\n",
      " [1 1 1 1 1 1 1 1]\n",
      " [1 1 1 1 1 1 1 1]\n",
      " [1 1 1 1 1 1 1 1]\n",
      " [1 1 1 1 1 1 1 1]\n",
      " [1 1 1 1 1 1 1 1]\n",
      " [1 1 1 1 1 1 1 1]]\n",
      "---\n",
      "Shape: (8, 8)\n",
      "Dimensions: 2\n",
      "Type: <class 'numpy.ndarray'>\n",
      "Type of values in matrix: int32\n"
     ]
    }
   ],
   "source": [
    "# Let's create a few matrices using NumPy:\n",
    "\n",
    "# An 8x8 matrix of ones of type int32\n",
    "m_1 = np.ones((8, 8), dtype=np.int32)\n",
    "\n",
    "print('Representing a matrix of 1s:\\n')\n",
    "print(m_1)\n",
    "\n",
    "print(\"---\")\n",
    "print(f'Shape: {m_1.shape}')\n",
    "print(f'Dimensions: {m_1.ndim}')\n",
    "print(f'Type: {type(m_1)}')\n",
    "print(f'Type of values in matrix: {m_1.dtype}')"
   ]
  },
  {
   "cell_type": "code",
   "execution_count": 5,
   "metadata": {},
   "outputs": [
    {
     "name": "stdout",
     "output_type": "stream",
     "text": [
      "Representing a matrix of random float64s:\n",
      "\n",
      "[[0.51182162 0.9504637  0.14415961 0.94864945 0.31183145 0.42332645]\n",
      " [0.82770259 0.40919914 0.54959369 0.02755911 0.75351311 0.53814331]]\n",
      "---\n",
      "Shape: (2, 6)\n",
      "Dimensions: 2\n",
      "Type: <class 'numpy.ndarray'>\n",
      "Type of values in matrix: float64\n"
     ]
    }
   ],
   "source": [
    "# A 2x6 matrix of random `float64s`\n",
    "# we can do this with an instance of the default random number generator\n",
    "rng = np.random.default_rng(1)\n",
    "m_2 = rng.random((2, 6))\n",
    "\n",
    "print('Representing a matrix of random float64s:\\n')\n",
    "print(m_2)\n",
    "\n",
    "print(\"---\")\n",
    "print(f'Shape: {m_2.shape}')\n",
    "print(f'Dimensions: {m_2.ndim}')\n",
    "print(f'Type: {type(m_2)}')\n",
    "print(f'Type of values in matrix: {m_2.dtype}')"
   ]
  },
  {
   "cell_type": "markdown",
   "metadata": {},
   "source": [
    "### Tensors\n",
    "\n",
    "Given that __vectors__ are just first-order __tensors__, and __matrices__ are second-order __tensors__, we can continue to use the `ndarray` type to represent n-dimensional tensors:"
   ]
  },
  {
   "cell_type": "code",
   "execution_count": 6,
   "metadata": {},
   "outputs": [
    {
     "name": "stdout",
     "output_type": "stream",
     "text": [
      "Representing a tensor:\n",
      "\n",
      "[[[0.32973172 0.7884287  0.30319483]\n",
      "  [0.45349789 0.1340417  0.40311299]\n",
      "  [0.20345524 0.26231334 0.75036467]]\n",
      "\n",
      " [[0.28040876 0.48519097 0.9807372 ]\n",
      "  [0.96165719 0.72478994 0.54122686]\n",
      "  [0.2768912  0.16065201 0.96992541]]\n",
      "\n",
      " [[0.51606859 0.11586561 0.62348976]\n",
      "  [0.77668311 0.6130033  0.9172977 ]\n",
      "  [0.03959288 0.52858926 0.45933588]]]\n",
      "---\n",
      "Shape: (3, 3, 3)\n",
      "Dimensions: 3\n",
      "Type: <class 'numpy.ndarray'>\n",
      "Type of values in tensor: float64\n"
     ]
    }
   ],
   "source": [
    "# Let's make a 3-dimensional tensor!\n",
    "t_1 = rng.random((3, 3, 3))\n",
    "\n",
    "print('Representing a tensor:\\n')\n",
    "print(t_1)\n",
    "\n",
    "print(\"---\")\n",
    "print(f'Shape: {t_1.shape}')\n",
    "print(f'Dimensions: {t_1.ndim}')\n",
    "print(f'Type: {type(t_1)}')\n",
    "print(f'Type of values in tensor: {t_1.dtype}')"
   ]
  },
  {
   "cell_type": "markdown",
   "metadata": {},
   "source": [
    "### Transpose Operation\n",
    "\n",
    "> The transpose of a matrix is the mirror image of the matrix across a diagonal line, called the __main diagonal__, running down and to the right, starting from its upper left corner.\n",
    "\n",
    "The __transpose__ of $A$ is denoted as $A^\\top$.\n",
    "\n",
    "$$\\huge (A^\\top)_{i,j} = A_{j,i}$$"
   ]
  },
  {
   "cell_type": "markdown",
   "metadata": {},
   "source": [
    "Notice in the illustration below how the transpose operation mirrors the matrix over the __main diagonal__:"
   ]
  },
  {
   "cell_type": "markdown",
   "metadata": {},
   "source": [
    "_(GitHub currently doesn't render the transposed matrix correctly, try in your own notebook for better results)_"
   ]
  },
  {
   "cell_type": "markdown",
   "metadata": {},
   "source": [
    "$$\\Large A = \\begin{bmatrix} A_{1,1} && A_{1,2}\\\\ A_{2,1} && A_{2,2} \\\\ A_{3,1} && A_{3,2} \\end{bmatrix} \\Rightarrow A^\\top = \\begin{bmatrix} A_{1,1} && A_{2,1} && A_{3,1}\\\\ A_{1,2} && A_{2,2} && A_{3,2} \\end{bmatrix} $$"
   ]
  },
  {
   "cell_type": "markdown",
   "metadata": {},
   "source": [
    "If we consider __vectors__ to be special cases of __matrices__ with only a single column, then the __transpose__ of a vector is a matrix with a single row.\n",
    "\n",
    "When writing a vector out in text (such as in a book), it's often practical to represent it as a transpose row, e.g:\n",
    "\n",
    "$$\\large [3.2, 2.1, 9.0, 4.8]^\\top$$"
   ]
  },
  {
   "cell_type": "markdown",
   "metadata": {},
   "source": [
    "The tranpose of a __scalar__ is just itself."
   ]
  },
  {
   "cell_type": "markdown",
   "metadata": {},
   "source": [
    "With NumPy, it's easy to compute the transpose of `ndarray` types:"
   ]
  },
  {
   "cell_type": "markdown",
   "metadata": {},
   "source": [
    "### Transpose of a scalar in NumPy:"
   ]
  },
  {
   "cell_type": "code",
   "execution_count": 7,
   "metadata": {},
   "outputs": [
    {
     "name": "stdout",
     "output_type": "stream",
     "text": [
      "23.342 ()\n",
      "23.342 ()\n"
     ]
    }
   ],
   "source": [
    "# Construct a scalar value of type float64\n",
    "s_2 = np.float64(23.342)\n",
    "\n",
    "s_2_transpose = s_2.transpose()\n",
    "\n",
    "print(s_2, s_2.shape)\n",
    "print(s_2_transpose, s_2.shape)\n",
    "\n",
    "# Notice it's the same!"
   ]
  },
  {
   "cell_type": "markdown",
   "metadata": {},
   "source": [
    "### Transpose of a vector in NumPy:"
   ]
  },
  {
   "cell_type": "code",
   "execution_count": 8,
   "metadata": {},
   "outputs": [
    {
     "name": "stdout",
     "output_type": "stream",
     "text": [
      "[20 30 40 50] (4,)\n",
      "[20 30 40 50] (4,)\n"
     ]
    }
   ],
   "source": [
    "v_1_transpose = v_1.transpose()\n",
    "\n",
    "print(v_1, v_1.shape)\n",
    "print(v_1_transpose, v_1_transpose.shape)\n",
    "\n",
    "# Notice it's the same, as far as NumPy is concerned!"
   ]
  },
  {
   "cell_type": "markdown",
   "metadata": {},
   "source": [
    "### Transpose of a matrix in NumPy:"
   ]
  },
  {
   "cell_type": "code",
   "execution_count": 9,
   "metadata": {},
   "outputs": [
    {
     "name": "stdout",
     "output_type": "stream",
     "text": [
      "Original Matrix:\n",
      "[[0 1 1 3 7 0]\n",
      " [6 6 2 2 4 5]] (2, 6)\n",
      "Transposed Matrix:\n",
      "[[0 6]\n",
      " [1 6]\n",
      " [1 2]\n",
      " [3 2]\n",
      " [7 4]\n",
      " [0 5]] (6, 2)\n"
     ]
    }
   ],
   "source": [
    "m_3 = np.random.randint(8, size=(2, 6))\n",
    "m_3_transpose = m_3.transpose()\n",
    "\n",
    "print(\"Original Matrix:\")\n",
    "print(m_3, m_3.shape)\n",
    "\n",
    "print(\"Transposed Matrix:\")\n",
    "print(m_3_transpose, m_3_transpose.shape)\n",
    "\n",
    "# Notice how the shape has changed!"
   ]
  },
  {
   "cell_type": "markdown",
   "metadata": {},
   "source": [
    "### Matrix Addition - Multiple Matrices\n",
    "\n",
    "Matrices of the same shape can be added together."
   ]
  },
  {
   "cell_type": "code",
   "execution_count": 10,
   "metadata": {},
   "outputs": [],
   "source": [
    "m_4 = np.random.randint(8, size=(2, 3))\n",
    "m_5 = np.random.randint(8, size=(2, 3))"
   ]
  },
  {
   "cell_type": "code",
   "execution_count": 11,
   "metadata": {},
   "outputs": [],
   "source": [
    "m_6 = np.add(m_4, m_5)"
   ]
  },
  {
   "cell_type": "code",
   "execution_count": 12,
   "metadata": {},
   "outputs": [
    {
     "name": "stdout",
     "output_type": "stream",
     "text": [
      "[[3 1 2]\n",
      " [4 4 1]]\n"
     ]
    }
   ],
   "source": [
    "print(m_4)"
   ]
  },
  {
   "cell_type": "code",
   "execution_count": 13,
   "metadata": {},
   "outputs": [
    {
     "name": "stdout",
     "output_type": "stream",
     "text": [
      "[[2 0 1]\n",
      " [6 2 2]]\n"
     ]
    }
   ],
   "source": [
    "print(m_5)"
   ]
  },
  {
   "cell_type": "code",
   "execution_count": 14,
   "metadata": {},
   "outputs": [
    {
     "name": "stdout",
     "output_type": "stream",
     "text": [
      "[[ 5  1  3]\n",
      " [10  6  3]]\n"
     ]
    }
   ],
   "source": [
    "print(m_6)"
   ]
  },
  {
   "cell_type": "markdown",
   "metadata": {},
   "source": [
    "### Matrix Addition - Adding Scalars\n",
    "\n",
    "Scalars can be added to matrices by adding the scalar to each element of the matrix."
   ]
  },
  {
   "cell_type": "code",
   "execution_count": 15,
   "metadata": {},
   "outputs": [],
   "source": [
    "m_7 = 10 + m_6"
   ]
  },
  {
   "cell_type": "code",
   "execution_count": 16,
   "metadata": {},
   "outputs": [
    {
     "name": "stdout",
     "output_type": "stream",
     "text": [
      "[[15 11 13]\n",
      " [20 16 13]]\n"
     ]
    }
   ],
   "source": [
    "print(m_7)"
   ]
  },
  {
   "cell_type": "markdown",
   "metadata": {},
   "source": [
    "### Matrix Multiplication - Multiplying Scalars\n",
    "\n",
    "Matrices can be multiplied by scalars by multiplying the scalar against each element of the matrix."
   ]
  },
  {
   "cell_type": "code",
   "execution_count": 17,
   "metadata": {},
   "outputs": [],
   "source": [
    "m_8 = m_7 * 10"
   ]
  },
  {
   "cell_type": "code",
   "execution_count": 18,
   "metadata": {},
   "outputs": [
    {
     "name": "stdout",
     "output_type": "stream",
     "text": [
      "[[150 110 130]\n",
      " [200 160 130]]\n"
     ]
    }
   ],
   "source": [
    "print(m_8)"
   ]
  },
  {
   "cell_type": "markdown",
   "metadata": {},
   "source": [
    "### Matrix Broadcasting\n",
    "\n",
    "We can allow the addition of a matrix and a vector to produce a new matrix, where the vector is added to each row of the matrix."
   ]
  },
  {
   "cell_type": "code",
   "execution_count": 19,
   "metadata": {},
   "outputs": [
    {
     "name": "stdout",
     "output_type": "stream",
     "text": [
      "[[3 5 6]\n",
      " [2 5 6]\n",
      " [0 2 5]\n",
      " [5 0 3]\n",
      " [0 4 5]]\n"
     ]
    }
   ],
   "source": [
    "m_9 = np.random.randint(8, size=(5, 3))\n",
    "print(m_9)"
   ]
  },
  {
   "cell_type": "code",
   "execution_count": 20,
   "metadata": {},
   "outputs": [],
   "source": [
    "# Let's make an array (vector) to broadcast against the m_9 array (matrix):\n",
    "m_10 = [1, 2, 3]"
   ]
  },
  {
   "cell_type": "code",
   "execution_count": 21,
   "metadata": {},
   "outputs": [
    {
     "name": "stdout",
     "output_type": "stream",
     "text": [
      "[[4 7 9]\n",
      " [3 7 9]\n",
      " [1 4 8]\n",
      " [6 2 6]\n",
      " [1 6 8]]\n"
     ]
    }
   ],
   "source": [
    "# Now we'll broadcast the addition of m_10 over m_9:\n",
    "m_11 = m_9 + m_10\n",
    "print(m_11)"
   ]
  },
  {
   "cell_type": "markdown",
   "metadata": {},
   "source": [
    "This broadcasting of addition can be written as:\n",
    "\n",
    "$$\\huge C_{i,j} = A_{i,j} + b_j$$"
   ]
  },
  {
   "cell_type": "markdown",
   "metadata": {},
   "source": [
    "In NumPy, arrays may be broadcasted according to a set of rules:\n",
    "\n",
    "> When operating on two arrays, NumPy compares their shapes element-wise. It starts with the trailing dimensions and works its way forward. Two dimensions are compatible when\n",
    "> - they are equal, or\n",
    "> - one of them is 1\n",
    ">\n",
    "> If these conditions are not met, a ValueError: operands could not be broadcast together exception is thrown, indicating that the arrays have incompatible shapes. The size of the resulting array is the size that is not 1 along each axis of the inputs.\n",
    ">\n",
    "> (https://numpy.org/doc/stable/user/basics.broadcasting.html#general-broadcasting-rules\n",
    "\n",
    "See also: (http://www.astroml.org/book_figures/appendix/fig_broadcast_visual.html)"
   ]
  },
  {
   "cell_type": "markdown",
   "metadata": {},
   "source": [
    "## 2.2: Multiplying Matrices and Vectors\n",
    "\n",
    "Matrix multiplication is one of the most important operations involving matrices."
   ]
  },
  {
   "cell_type": "markdown",
   "metadata": {},
   "source": [
    "### Matrix Product\n",
    "\n",
    "For the matrix product:\n",
    "\n",
    "$$\\huge C = AB $$\n",
    "\n",
    "$A$ must have the same number of columns as $B$ has rows.\n",
    "\n",
    "If $A$ has a shape $(m, n)$ and $B$ has a shape $(n, p)$, then $C$ is of shape $(m,p)$"
   ]
  },
  {
   "cell_type": "markdown",
   "metadata": {},
   "source": [
    "The *matrix product* operation is defined as:\n",
    "\n",
    "$$\\Large C_{i,j} = \\sum_{k}A_{i,k}B_{k,j}$$\n",
    "\n",
    "In other words, $C$ is the sum of the products between rows of $A$ and columns of $B$.\n",
    "\n",
    "Let's looks at a concrete example using NumPy"
   ]
  },
  {
   "cell_type": "code",
   "execution_count": 22,
   "metadata": {},
   "outputs": [
    {
     "name": "stdout",
     "output_type": "stream",
     "text": [
      "[[8 4]\n",
      " [5 2]]\n"
     ]
    }
   ],
   "source": [
    "# Matrix Multiplication using NumPy:\n",
    "\n",
    "A = np.array([[1, 0, 0],\n",
    "              [0, 1, 1]])\n",
    "\n",
    "B = np.array([[8, 4],\n",
    "              [4, 2],\n",
    "              [1, 0]])\n",
    "\n",
    "C = np.matmul(A, B)\n",
    "\n",
    "print(C)"
   ]
  },
  {
   "cell_type": "markdown",
   "metadata": {},
   "source": [
    "Let's get a sense of what this example would look like when written out:\n",
    "\n",
    "$$\n",
    "\\Large \\begin{bmatrix} 1 && 0 && 0 \\\\ 0 && 1 && 1 \\end{bmatrix}\n",
    "\\times\n",
    "\\Large \\begin{bmatrix} 8 && 4 \\\\ 4 && 2 \\\\ 1 && 0 \\end{bmatrix} \n",
    "=\n",
    "\\large \\begin{bmatrix} (1 \\times 8 + 0 \\times 4 + 0 \\times 1) && (1 \\times 4 + 0 \\times 2 + 0 \\times 0) \\\\ \n",
    "(0 \\times 8 + 1 \\times 4 + 1 \\times 1) && (0 \\times 4 + 1 \\times 2 + 1 \\times 0)\\end{bmatrix} \n",
    "=\n",
    "\\Large \\begin{bmatrix} 8 && 4 \\\\ 5 && 2 \\end{bmatrix} \n",
    "$$"
   ]
  },
  {
   "cell_type": "markdown",
   "metadata": {},
   "source": [
    "It's important to make a distinction between the **matrix prouct**, as shown above, and the **Hadamard product**, which is an **element-wise product**.  The **Hadmard product** is denoted as $A \\odot B$"
   ]
  },
  {
   "cell_type": "code",
   "execution_count": 23,
   "metadata": {},
   "outputs": [
    {
     "name": "stdout",
     "output_type": "stream",
     "text": [
      "[[2 0 0]\n",
      " [0 2 2]]\n"
     ]
    }
   ],
   "source": [
    "# Hadamard product using NumPy:\n",
    "\n",
    "A = np.array([[1, 0, 0],\n",
    "              [0, 1, 1]])\n",
    "\n",
    "B = np.array([[2, 2, 2],\n",
    "              [2, 2, 2]])\n",
    "\n",
    "C = np.multiply(A, B)\n",
    "\n",
    "print(C)"
   ]
  },
  {
   "cell_type": "markdown",
   "metadata": {},
   "source": [
    "### Dot Product\n",
    "\n",
    "The **dot product** of two vectors $x$ and $y$ is the **matrix product** $x^\\top y$"
   ]
  },
  {
   "cell_type": "code",
   "execution_count": 24,
   "metadata": {},
   "outputs": [
    {
     "name": "stdout",
     "output_type": "stream",
     "text": [
      "[[8 4]\n",
      " [5 2]]\n",
      "[[8 4]\n",
      " [5 2]]\n"
     ]
    }
   ],
   "source": [
    "# Dot Product using NumPy\n",
    "\n",
    "# For 2-D arrays it is the same as the matrix product:\n",
    "\n",
    "A = np.array([[1, 0, 0],\n",
    "              [0, 1, 1]])\n",
    "\n",
    "B = np.array([[8, 4],\n",
    "              [4, 2],\n",
    "              [1, 0]])\n",
    "\n",
    "C = np.dot(A, B)\n",
    "\n",
    "# Alternative syntax\n",
    "C_alt = A.dot(B)\n",
    "\n",
    "print(C)\n",
    "\n",
    "print(C_alt)"
   ]
  },
  {
   "cell_type": "markdown",
   "metadata": {},
   "source": [
    "### Other Useful Properties of Matrix Product Operations\n",
    "\n",
    "There are many useful properties of matrix product operations.  Here are a few mentioned in the book:"
   ]
  },
  {
   "cell_type": "markdown",
   "metadata": {},
   "source": [
    "### Distributive:\n",
    "\n",
    "$$\\large A(B+C) = AB + AC$$"
   ]
  },
  {
   "cell_type": "code",
   "execution_count": 25,
   "metadata": {},
   "outputs": [
    {
     "name": "stdout",
     "output_type": "stream",
     "text": [
      "True\n"
     ]
    }
   ],
   "source": [
    "# Demonstration of the Distributive property of Matrix Multiplication using NumPy:\n",
    "\n",
    "A = np.array([[1, 0, 0],\n",
    "              [0, 1, 1]])\n",
    "\n",
    "B = np.array([[8, 4],\n",
    "              [4, 2],\n",
    "              [1, 0]])\n",
    "\n",
    "C = np.array([[8, 4],\n",
    "              [4, 2],\n",
    "              [1, 0]])\n",
    "\n",
    "def assert_distributive(A, B, C):\n",
    "    Y_1 = np.dot(A, B + C)\n",
    "    Y_2 = np.dot(A, B) + np.dot(A, C)\n",
    "    if np.array_equal(Y_1, Y_2):\n",
    "        return True\n",
    "    return False\n",
    "    \n",
    "print(assert_distributive(A, B, C))"
   ]
  },
  {
   "cell_type": "markdown",
   "metadata": {},
   "source": [
    "### Associative:\n",
    "\n",
    "$$\\large A(BC) = (AB)C$$"
   ]
  },
  {
   "cell_type": "code",
   "execution_count": 26,
   "metadata": {},
   "outputs": [
    {
     "name": "stdout",
     "output_type": "stream",
     "text": [
      "True\n"
     ]
    }
   ],
   "source": [
    "# Demonstration of the Associative property of Matrix Multiplication in NumPy:\n",
    "\n",
    "A = np.array([[1, 2],\n",
    "              [1, 4],\n",
    "              [1, 8]])\n",
    "\n",
    "B = np.array([[1, 2, 2],\n",
    "              [9, 0, 9]])\n",
    "\n",
    "C = np.array([[16, 14],\n",
    "              [41, 12],\n",
    "              [11, 80]])\n",
    "\n",
    "def assert_associative(A, B, C):\n",
    "    Y_1 = A.dot(B.dot(C))\n",
    "    Y_2 = np.dot(A, B).dot(C)\n",
    "    if np.array_equal(Y_1, Y_2):\n",
    "        return True\n",
    "    return False\n",
    "    \n",
    "print(assert_associative(A, B, C))"
   ]
  },
  {
   "cell_type": "markdown",
   "metadata": {},
   "source": [
    "### Dot Product of two Vectors  (1-D Tensors) is Commutative\n",
    "\n",
    "$$\\large x^\\top y = y^\\top x$$"
   ]
  },
  {
   "cell_type": "code",
   "execution_count": 27,
   "metadata": {},
   "outputs": [
    {
     "name": "stdout",
     "output_type": "stream",
     "text": [
      "Shape of A:  (20,)\n",
      "Shape of B:  (20,)\n",
      "A:  [ 0  1  2  3  4  5  6  7  8  9 10 11 12 13 14 15 16 17 18 19]\n",
      "B:  [ 0  1  2  3  4  5  6  7  8  9 10 11 12 13 14 15 16 17 18 19]\n",
      "C_1 and C_2:\n",
      "2470\n",
      "2470\n",
      "True\n"
     ]
    }
   ],
   "source": [
    "# Demonstration of the commutative property of the dot product using NumPy:\n",
    "\n",
    "# Here we can look at NumPy's arange to return a vector of evenly-spaced values at a given interval\n",
    "\n",
    "A = np.arange(0, 20)\n",
    "B = np.arange(0, 20)\n",
    "\n",
    "def assert_dot_product_vectors_commutative(A, B):\n",
    "    Y_1 = A.dot(B)\n",
    "    Y_2 = B.dot(A)\n",
    "    if np.array_equal(Y_1, Y_2):\n",
    "        return True\n",
    "    return False\n",
    "    \n",
    "print(\"Shape of A: \", A.shape)\n",
    "print(\"Shape of B: \", A.shape)\n",
    "print(\"A: \", A)\n",
    "print(\"B: \", B)\n",
    "\n",
    "print(\"C_1 and C_2:\")\n",
    "C_1 = A.dot(B)\n",
    "C_2 = B.dot(A)\n",
    "print(C_1)\n",
    "print(C_2)\n",
    "\n",
    "print(assert_dot_product_vectors_commutative(A, B))"
   ]
  },
  {
   "cell_type": "markdown",
   "metadata": {},
   "source": [
    "### The transpose of the product of two matrices is equivalent to the product of their transposes reversed\n",
    "\n",
    "$$\\large (AB)^\\top = B^\\top A^\\top$$"
   ]
  },
  {
   "cell_type": "code",
   "execution_count": 28,
   "metadata": {},
   "outputs": [
    {
     "name": "stdout",
     "output_type": "stream",
     "text": [
      "True\n",
      "[[8 5]\n",
      " [4 2]]\n",
      "[[8 5]\n",
      " [4 2]]\n"
     ]
    }
   ],
   "source": [
    "# Demonstration of commutative property of transpose in NumPy:\n",
    "\n",
    "A = np.array([[1, 0, 0],\n",
    "              [0, 1, 1]])\n",
    "\n",
    "B = np.array([[8, 4],\n",
    "              [4, 2],\n",
    "              [1, 0]])\n",
    "\n",
    "def assert_transpose_commutative(A, B):\n",
    "    Y_1 = np.matmul(A, B).T\n",
    "    Y_2 = B.T.dot(A.T)\n",
    "    if np.array_equal(Y_1, Y_2):\n",
    "        return True\n",
    "    return False\n",
    "    \n",
    "print(assert_transpose_commutative(A, B))\n",
    "      \n",
    "Y_1 = A.dot(B).T\n",
    "Y_2 = B.T.dot(A.T)\n",
    "\n",
    "print(Y_1)\n",
    "print(Y_2)"
   ]
  },
  {
   "cell_type": "markdown",
   "metadata": {},
   "source": [
    "### Using Matrices to model systems of linear equations\n",
    "\n",
    "One of the reasons linear algebra is so useful to engineering is because **matrices can be used to model systems of linear equations.**\n",
    "\n",
    "Every system of linear equations has several important properties, including the _number of equations_ and the _number of unknowns_.  It's easy to start with an example in two dimensions, because we can visualize it clearly using a 2-dimensional plot.\n",
    "\n",
    "Let's consider a system of: \n",
    "- 2 equations, shown below\n",
    "- 2 unknowns ($x$, $y$).\n",
    "\n",
    "The number of dimensions in our space correspond to the number of unknowns. Each of our equations corresponds to a line in this space.\n",
    "\n",
    "$$\\large \\begin{cases} 2x + 5y = 18 \\\\ -6x – 2y = 10 \\end{cases} $$"
   ]
  },
  {
   "cell_type": "markdown",
   "metadata": {},
   "source": [
    "We can rewrite these in standard form and plot these equations in 2 dimensions:\n",
    "\n",
    "$$ \\Large y_1 = \\frac{18 - 2x}{5}, \\Large y_2 = \\frac{10 + 6x}{2} $$"
   ]
  },
  {
   "cell_type": "code",
   "execution_count": 29,
   "metadata": {},
   "outputs": [],
   "source": [
    "%matplotlib inline\n",
    "import matplotlib.pyplot as plt\n",
    "import seaborn as sns\n",
    "sns.set_style(\"whitegrid\")\n",
    "sns.set_context(\"notebook\", font_scale=1.5, rc={\"lines.linewidth\": 2.5})"
   ]
  },
  {
   "cell_type": "code",
   "execution_count": 30,
   "metadata": {},
   "outputs": [
    {
     "data": {
      "image/png": "[encoded data removed]",
      "text/plain": [
       "<Figure size 432x288 with 1 Axes>"
      ]
     },
     "metadata": {},
     "output_type": "display_data"
    }
   ],
   "source": [
    "x = np.arange(-5, 5, 1) # start, stop, step\n",
    "y_1 = (18 - 2*x)/5\n",
    "y_2 = (10 + 6*x)/-2\n",
    "\n",
    "plt.plot(x, y_1, x, y_2)\n",
    "plt.show()"
   ]
  },
  {
   "cell_type": "markdown",
   "metadata": {},
   "source": [
    "Here, we can see that there is a single value (x, y) at which both equations cross.  We'll revisit the other two possible scenarios - two equations which never cross (parallel lines), and two equations with overlap entirely.\n",
    "\n",
    "Notice that with linear equations, each can not overlap more than once but less than infinitely many times!"
   ]
  },
  {
   "cell_type": "markdown",
   "metadata": {},
   "source": [
    "Let's solve this system of equations using matrices.\n",
    "\n",
    "We'll go back to representing the equations with the following form:\n",
    "\n",
    "$$\\large \\begin{cases} 2x + 5y = 18 \\\\ -6x – 2y = 10 \\end{cases} $$"
   ]
  },
  {
   "cell_type": "markdown",
   "metadata": {},
   "source": [
    "Let's call $x$ and $y$, which we're trying to solve for, $x_1$ and $x_2$, respectively. Now we end up with the following notation:\n",
    "\n",
    "$$\\large \\begin{cases} 2x_1 + 5x_2 = 18 \\\\ -6x_1 – 2x_2 = 10 \\end{cases} $$\n",
    "\n",
    "We will think of the constant numeric values on left sides of our system of equations as the matrix $A$, and the right sides of the equation as the vector $b$."
   ]
  },
  {
   "cell_type": "markdown",
   "metadata": {},
   "source": [
    "Now that we know how the matrix dot product works - i.e. the product $C$ is the sum of the products between rows of $A$ and columns of $B$, we can represent our system of equations using matrices.\n",
    "\n",
    "We can express our system of linear equations with matrices of the form:\n",
    "\n",
    "$$\\huge Ax = b$$\n",
    "\n",
    "where:\n",
    "- $ A \\in \\mathbb{R}^{m \\times n}$ is a known matrix (the numeric values on the left-hand side)\n",
    "- $ b \\in \\mathbb{R}^{n} $ is a known vector (the numeric values on the right-hand side), and\n",
    "- $ x \\in \\mathbb{R}^{n} $ is a vector of unknown variables to be solved for ($x_1$ and $x_2$)\n",
    "\n",
    "Each element $x_{i}$ of $x$ is one of these unknown variables.\n",
    "\n",
    "Each row of $A$ and each element of $b$ provide another constraint - in this case, our two dimensions.\n",
    "\n",
    "We can now see that the dot product of the matrix $A$ and the unknown vector $x$ will produce a new vector $b$.\n",
    "\n",
    "In the next section, we'll look at one way to solve this system of equations for the unknown values $x_1$ and $x_2$."
   ]
  },
  {
   "cell_type": "markdown",
   "metadata": {},
   "source": [
    "## 2.3: Identity and Inverse Matrices\n",
    "\n",
    "We can use **matrix inversion** to analytically solve this equation for many values of $A$.  **Matrix inversion** can be accomplished using the **identity matrix**."
   ]
  },
  {
   "cell_type": "markdown",
   "metadata": {},
   "source": [
    "### Identity Matrix\n",
    "\n",
    "An identity matrix $I_{3}$.  This probably doesn't display correctly on GitHub, but it should render properly in a local Jupyter notebook.\n",
    "\n",
    "$$\\Large \\begin{bmatrix} 1 && 0 && 0 \\\\ 0 && 1 && 0 \\\\ 0 && 0 && 1 \\end{bmatrix}$$"
   ]
  },
  {
   "cell_type": "markdown",
   "metadata": {},
   "source": [
    "> In linear algebra, the identity matrix of size n is the n × n square matrix with ones on the main diagonal and zeros elsewhere. [Wikipedia - Identity Matrix](https://en.wikipedia.org/wiki/Identity_matrix)\n",
    "\n",
    "When a vector is multiplied by an identity matrix, the result is equivalent to the vector. I.e.:\n",
    "\n",
    "$$\\huge \\forall x \\in \\mathbb{R}^{n}, I_{n}x = x$$\n",
    "\n",
    "This is to say that for the identity matrix $I_n \\in \\mathbb{R}^{n \\times n}$, and all vectors $x$ containing real numbers, $I_n$ multiplied by that vector equals that vector."
   ]
  },
  {
   "cell_type": "code",
   "execution_count": 31,
   "metadata": {},
   "outputs": [
    {
     "name": "stdout",
     "output_type": "stream",
     "text": [
      "[[1. 0. 0.]\n",
      " [0. 1. 0.]\n",
      " [0. 0. 1.]]\n"
     ]
    }
   ],
   "source": [
    "# In NumPy, we can easily generate an identity matrix:\n",
    "\n",
    "print(np.identity(3))"
   ]
  },
  {
   "cell_type": "code",
   "execution_count": 32,
   "metadata": {},
   "outputs": [
    {
     "name": "stdout",
     "output_type": "stream",
     "text": [
      "[[1. 0. 0. 0. 0. 0. 0. 0. 0.]\n",
      " [0. 1. 0. 0. 0. 0. 0. 0. 0.]\n",
      " [0. 0. 1. 0. 0. 0. 0. 0. 0.]]\n",
      "^ not an identity matrix!\n"
     ]
    }
   ],
   "source": [
    "# Note that under the hood, np.identity calls np.eye, which provides an matrix with zeros on the diagonal,\n",
    "# but with the ability to offset the diagonal and provide matrices of different shapes than the square \n",
    "# identity matrix.  Thus, np.identity is a special case of np.eye\n",
    "\n",
    "print(np.eye(3, 9, 0))\n",
    "print(\"^ not an identity matrix!\")"
   ]
  },
  {
   "cell_type": "markdown",
   "metadata": {},
   "source": [
    "We can use NumPy to see that when we apply the identity matrix to a vector, we get that vector back."
   ]
  },
  {
   "cell_type": "code",
   "execution_count": 33,
   "metadata": {},
   "outputs": [
    {
     "name": "stdout",
     "output_type": "stream",
     "text": [
      "[ 8. 12.  3.]\n"
     ]
    }
   ],
   "source": [
    "A = np.identity(3)\n",
    "x = np.array([8, 12, 3])\n",
    "b = A.dot(x)\n",
    "\n",
    "print(b)\n",
    "\n",
    "# Notice that the result is the same as the input vector x."
   ]
  },
  {
   "cell_type": "markdown",
   "metadata": {},
   "source": [
    "Here's a better visual of what we've done here:\n",
    "\n",
    "$$\n",
    "\\large \\begin{bmatrix} 1 && 0 && 0 \\\\ 0 && 1 && 0 \\\\ 0 && 0 && 1 \\end{bmatrix}\n",
    "\\times\n",
    "\\large \\begin{bmatrix} 8 \\\\ 12 \\\\ 3 \\end{bmatrix} \n",
    "=\n",
    "\\large \\begin{bmatrix} 1 \\times 8 + 0 \\times 12 + 0 \\times 3 \\\\ 0 \\times 8 + 1 \\times 12 + 0 \\times 3 \\\\ 0 \\times 8 + 0 \\times 12 + 1 \\times 3 \\end{bmatrix} \n",
    "=\n",
    "\\large \\begin{bmatrix} 8 \\\\ 12 \\\\ 3 \\end{bmatrix} \n",
    "$$"
   ]
  },
  {
   "cell_type": "markdown",
   "metadata": {},
   "source": [
    "### Inverse Matrix\n",
    "\n",
    "\n",
    "The **matrix inverse** of a matrix $A$ is denoted as $A^{-1}$.  Thus, \n",
    "\n",
    "$$ \\huge A^{-1}A = I_{n} $$\n",
    "\n",
    "I.e. When we multiply a **matrix** by its **inverse**, we get the **identity matrix**."
   ]
  },
  {
   "cell_type": "markdown",
   "metadata": {},
   "source": [
    "The steps to solve the equation $ Ax=b $ are as follows:"
   ]
  },
  {
   "cell_type": "markdown",
   "metadata": {},
   "source": [
    "1.) $Ax = b$\n",
    "\n",
    "2.) $A^{-1}Ax = A^{-1}b$\n",
    "\n",
    "3.) $I_{n}x = A^{-1}b$\n",
    "\n",
    "4.) $x=A^{-1}b$"
   ]
  },
  {
   "cell_type": "markdown",
   "metadata": {},
   "source": [
    "All of this depends on the possibility that $A^{-1}$ exists and can be found.  Due to the limits of the precision of representing real numbers digitally, using $A^{-1}$ is generally not the best tool for the job when solving systems of equations using computation."
   ]
  },
  {
   "cell_type": "markdown",
   "metadata": {},
   "source": [
    "### Solving a 2-dimensions system of equations\n",
    "\n",
    "Let's use this technique to solve the system of equations from the previous section using NumPy!\n",
    "\n",
    "Recall that we had the following system of equations:\n",
    "\n",
    "\n",
    "$$\\large \\begin{cases} 2x_1 + 5x_2 = 18 \\\\ -6x_1 – 2x_2 = 10 \\end{cases} $$\n",
    "\n",
    "and we want to represent it using the form:\n",
    "\n",
    "$$\\huge Ax = b$$"
   ]
  },
  {
   "cell_type": "markdown",
   "metadata": {},
   "source": [
    "Thus, we build our $A$ matrix and $b$ vector, with $x$ being our unknown:\n",
    "\n",
    "$$ \\large \\begin{bmatrix} 2 && 5 \\\\ -6 && -2 \\end{bmatrix} \\begin{bmatrix} x_1 \\\\ x_2 \\end{bmatrix} = \\begin{bmatrix} 18 \\\\ 10 \\end{bmatrix} $$"
   ]
  },
  {
   "cell_type": "markdown",
   "metadata": {},
   "source": [
    "Notice what happens when you take the dot product here on the left-hand side: you end up with the same representation we started with!  This should help illustrate why this tensor-based structure is useful as a representation. \n",
    "\n",
    "> Keep in mind that even though we're working in 2-D space for the purposes of practical visualization, this works for arbitrarily large numbers of dimensions!"
   ]
  },
  {
   "cell_type": "code",
   "execution_count": 34,
   "metadata": {},
   "outputs": [
    {
     "name": "stdout",
     "output_type": "stream",
     "text": [
      "[[ 2  5]\n",
      " [-6 -2]]\n",
      "[[18]\n",
      " [10]]\n"
     ]
    }
   ],
   "source": [
    "A = np.array([[2, 5],\n",
    "              [-6, -2]])\n",
    "\n",
    "b = np.array([[18],\n",
    "              [10]])\n",
    "\n",
    "print(A)\n",
    "print(b)"
   ]
  },
  {
   "cell_type": "markdown",
   "metadata": {},
   "source": [
    "We already know that $x=A^{−1}b$, so let's use NumPy to find and use the inverse:"
   ]
  },
  {
   "cell_type": "code",
   "execution_count": 35,
   "metadata": {},
   "outputs": [
    {
     "name": "stdout",
     "output_type": "stream",
     "text": [
      "[[-0.07692308 -0.19230769]\n",
      " [ 0.23076923  0.07692308]]\n"
     ]
    }
   ],
   "source": [
    "A_inv = np.linalg.inv(A)\n",
    "print (A_inv)"
   ]
  },
  {
   "cell_type": "markdown",
   "metadata": {},
   "source": [
    "and now, simply solve for x using the **dot product**:"
   ]
  },
  {
   "cell_type": "code",
   "execution_count": 36,
   "metadata": {},
   "outputs": [
    {
     "name": "stdout",
     "output_type": "stream",
     "text": [
      "[[-3.30769231]\n",
      " [ 4.92307692]]\n"
     ]
    }
   ],
   "source": [
    "x = A_inv.dot(b)\n",
    "print(x)"
   ]
  },
  {
   "cell_type": "markdown",
   "metadata": {},
   "source": [
    "Let's plug in values:\n",
    "\n",
    "$$\\large \\begin{cases} 2 \\times -3.31 + 5 \\times 4.92 \\Rightarrow 17.98 \\approx 18 \\\\ -6 \\times -3.31 – 2 \\times 4.92 \\Rightarrow 10.02 \\approx 10 \\end{cases} $$\n",
    "\n",
    "See how this corresponds to the graph we created earlier, also.  Nice!"
   ]
  },
  {
   "cell_type": "markdown",
   "metadata": {},
   "source": [
    "### Why do we care about systems of equations? Two Practical Examples\n",
    "\n",
    "### Example 1: Ticket Pricing Analysis\n",
    "\n",
    "Let's say we sell tickets to a concert.  Tickets for children are 8 dollars and adults are 12 dollars.  We measured attendance at our last event - we had 300 people, and we made $3,100.  How many child and adult tickets did we sell?\n",
    "\n",
    "Our unknowns:\n",
    "- $\\large x_1$ - how many child tickets?\n",
    "- $\\large x_2$ - how many adult tickets?\n",
    "\n",
    "Our knowns:\n",
    "- 8 - the cost of a child ticket\n",
    "- 12 - the cose of an adult ticket\n",
    "- 300 - the number of people in attendance at the show\n",
    "- 3100 - the number of dollars collected (revenue)\n",
    "\n",
    "Our equations:\n",
    "- $\\large 8x_1 + 12x_2 = 3100$\n",
    "- $\\large x_1 + x_2 = 300$\n",
    "\n",
    "Let's start with a graph:"
   ]
  },
  {
   "cell_type": "code",
   "execution_count": 48,
   "metadata": {},
   "outputs": [
    {
     "data": {
      "image/png": "[encoded data removed]",
      "text/plain": [
       "<Figure size 432x288 with 1 Axes>"
      ]
     },
     "metadata": {},
     "output_type": "display_data"
    }
   ],
   "source": [
    "# we'll put x_1 (child) on the y axis, and x_2 (adult) on the x-axis\n",
    "\n",
    "x = np.arange(130, 200, 1) # start, stop, step\n",
    "y_1 = (3100 - 12*x)/8\n",
    "y_2 = (300 - x)\n",
    "\n",
    "plt.plot(x, y_1, x, y_2)\n",
    "plt.xlabel(\"child ticket count\")\n",
    "plt.ylabel(\"adult ticket count\")\n",
    "plt.legend(['revenue eqn', 'attendance eqn'])\n",
    "plt.show()"
   ]
  },
  {
   "cell_type": "markdown",
   "metadata": {},
   "source": [
    "The point at which these two lines intersect is the only point at which the collected revenue and the attendance match what we observed.  At this point, we can now observe the necessary number of adult and child tickets that must have been sold.\n",
    "\n",
    "From the graph, we estimate that the number of child and adult tickets that solve both equations are about 125 and 175 tickets, respectively.\n",
    "\n",
    "Let's solve the system of equations using linear algebra.\n",
    "\n",
    "$$\\Large \\begin{cases} 8x_1 + 12x_2 = 3100 \\\\ x_1 + x_2 = 300 \\end{cases} $$\n",
    "\n",
    "\n",
    "$$ \\Large \\begin{bmatrix} 8 && 12 \\\\ 1 && 1 \\end{bmatrix} \\begin{bmatrix} x_1 \\\\ x_2 \\end{bmatrix} = \\begin{bmatrix} 3100 \\\\ 300 \\end{bmatrix} $$"
   ]
  },
  {
   "cell_type": "code",
   "execution_count": 38,
   "metadata": {},
   "outputs": [
    {
     "name": "stdout",
     "output_type": "stream",
     "text": [
      "[[125.]\n",
      " [175.]]\n"
     ]
    }
   ],
   "source": [
    "A = np.array([[8, 12],\n",
    "              [1, 1]])\n",
    "\n",
    "A_inv = np.linalg.inv(A)\n",
    "\n",
    "b = np.array([[3100],\n",
    "              [300]])\n",
    "\n",
    "x = A_inv.dot(b)\n",
    "\n",
    "print(x)"
   ]
  },
  {
   "cell_type": "code",
   "execution_count": 49,
   "metadata": {},
   "outputs": [
    {
     "name": "stdout",
     "output_type": "stream",
     "text": [
      "Children Tickets: 125\n",
      "Adult Tickets: 175\n",
      "----\n",
      "Children Tickets: 65\n",
      "Adult Tickets: 215\n"
     ]
    }
   ],
   "source": [
    "# Now let's take a quick look at moving this logic into a Python function:\n",
    "\n",
    "import math\n",
    "\n",
    "def print_ticket_sales(revenue, attendance, child_price, adult_price):\n",
    "    A = np.array([[child_price, adult_price], [1, 1]])\n",
    "    A_inv = np.linalg.inv(A)\n",
    "    b = np.array([[revenue], [attendance]])\n",
    "    x = A_inv.dot(b)\n",
    "    print(\"Children Tickets:\", math.ceil(x[0][0]))\n",
    "    print(\"Adult Tickets:\", math.ceil(x[1][0]))\n",
    "\n",
    "print_ticket_sales(3100, 300, 8, 12)\n",
    "\n",
    "# We can also experiment with other numbers here to see how it affects the outcome.\n",
    "print(\"----\")\n",
    "print_ticket_sales(3100, 280, 8, 12)"
   ]
  },
  {
   "cell_type": "markdown",
   "metadata": {},
   "source": [
    "### Example 2: Break-even analysis\n",
    "\n",
    "Let's say we own a company that provides cloud hosting.  We want to determine when we expect to be profitable.\n",
    "\n",
    "We have two equations - a cost equation and a revenue equation. The cost of running business includes a significant amount of cash for computers and servers, and increasaes linearly with the number of servers purchased. Let's assume that our cost and our revenue are a function of how many servers we manage.\n",
    "\n",
    "Our unknowns:\n",
    "- $\\large x_1$ - how many servers do we need to provision to break even on our investment?\n",
    "- $\\large x_2$ - what is the break even dollar amount?\n",
    "\n",
    "Solving for these unknowns where these values are the same for the _cost equation_ and the _revenue equation_ will provide us with our _break even__ point.\n",
    "\n",
    "Our knowns:\n",
    "- 15 - the cost per server, including all overhead\n",
    "- 99 - the revenue we generate per server we own\n",
    "\n",
    "Our equations:\n",
    "- $\\large cost: x_2 = 5000 + 16x_1$\n",
    "- $\\large revenue: x_2 = 40x_1$\n",
    "\n",
    "Let's start with a graph:"
   ]
  },
  {
   "cell_type": "code",
   "execution_count": 52,
   "metadata": {},
   "outputs": [
    {
     "data": {
      "image/png": "[encoded data removed]",
      "text/plain": [
       "<Figure size 432x288 with 1 Axes>"
      ]
     },
     "metadata": {},
     "output_type": "display_data"
    }
   ],
   "source": [
    "# we'll put x_2 (dollars) on the y axis, and x_1 (servers) on the x-axis\n",
    "\n",
    "x = np.arange(0, 400, 1) # start, stop, step\n",
    "cost = (5000 + 16*x)\n",
    "revenue = (40*x)\n",
    "\n",
    "plt.plot(x, cost, x, revenue)\n",
    "plt.legend(['cost', 'revenue'])\n",
    "plt.xlabel(\"servers\")\n",
    "plt.ylabel(\"dollars\")\n",
    "plt.show()"
   ]
  },
  {
   "cell_type": "markdown",
   "metadata": {},
   "source": [
    "And again, solving using linear algebra:\n",
    "\n",
    "$$\\Large \\begin{cases} -16x_1 + x_2 = 5000 \\\\ -40x_1 + x_2 = 0 \\end{cases} $$\n",
    "\n",
    "\n",
    "$$ \\Large \\begin{bmatrix} -16 && 1 \\\\ -40 && 1 \\end{bmatrix} \\begin{bmatrix} x_1 \\\\ x_2 \\end{bmatrix} = \\begin{bmatrix} 5000 \\\\ 0 \\end{bmatrix} $$"
   ]
  },
  {
   "cell_type": "code",
   "execution_count": 58,
   "metadata": {},
   "outputs": [
    {
     "name": "stdout",
     "output_type": "stream",
     "text": [
      "209 servers and $ 8334 invested at break-even\n"
     ]
    }
   ],
   "source": [
    "A = np.array([[-16, 1],\n",
    "              [-40, 1]])\n",
    "\n",
    "A_inv = np.linalg.inv(A)\n",
    "\n",
    "b = np.array([[5000],\n",
    "              [0]])\n",
    "\n",
    "x = A_inv.dot(b)\n",
    "\n",
    "print(f'{math.ceil(x[0][0])} servers and $ {math.ceil(x[1][0])} invested at break-even.')"
   ]
  },
  {
   "cell_type": "markdown",
   "metadata": {},
   "source": [
    "## 2.4: Linear Dependence and Span\n",
    "\n"
   ]
  },
  {
   "cell_type": "markdown",
   "metadata": {},
   "source": [
    "> For $A^{-1}$ to exist, $Ax = b$ must have exactly one solution for every value of $b$. \n",
    "\n",
    "It's also possible for the system of equations to have **zero solutions** or an **infinite number of solutions** for some values of $b$.\n",
    "\n",
    "However, **it is not possible to have more than one but less than an infinite number of solutions for a particular $b$.**  This is because we're working with linear systems, for which there are three general states:\n",
    "\n",
    "- Zero solutions (e.g. in 2D, parallel lines)\n",
    "- One solution (e.g. in 2D, lines that cross at a single point)\n",
    "- Infinitely man solutions (e.g. in 2D, lines that overlap)\n",
    "\n",
    "This is easier to understand using a visual.  We'll use NumPy and matplotlib:"
   ]
  },
  {
   "cell_type": "code",
   "execution_count": 114,
   "metadata": {},
   "outputs": [
    {
     "data": {
      "image/png": "[encoded data removed]",
      "text/plain": [
       "<Figure size 1296x432 with 3 Axes>"
      ]
     },
     "metadata": {},
     "output_type": "display_data"
    }
   ],
   "source": [
    "x = np.arange(0, 20, 1) # start, stop, step\n",
    "\n",
    "y_1 = (2*x + 4)\n",
    "y_2 = (2*x - 3)\n",
    "\n",
    "y_3 = (-3.4*x)\n",
    "y_4 = (0.2*x - 32)\n",
    "\n",
    "y_5 = (0.8*x)\n",
    "y_6 = (0.8*x)\n",
    "\n",
    "fig, (ax1, ax2, ax3) = plt.subplots(1, 3, figsize=(18,6))\n",
    "\n",
    "# ax.set_title('3 classes of linear equation relationships')\n",
    "\n",
    "ax1.plot(y_1, linestyle=':', linewidth=8)\n",
    "ax1.plot(y_2, linewidth=8)\n",
    "ax1.set_title('No Solutions')\n",
    "\n",
    "ax2.plot(y_3, linestyle=':',linewidth=8)\n",
    "ax2.plot(y_4, linewidth=8)\n",
    "ax2.set_title('One Solution')\n",
    "\n",
    "ax3.plot(y_5, linestyle=':', linewidth=8)\n",
    "ax3.plot(y_6, linewidth=4)\n",
    "ax3.set_title('Infinite Solutions')\n",
    "\n",
    "plt.show()"
   ]
  },
  {
   "cell_type": "markdown",
   "metadata": {},
   "source": [
    "### Span\n",
    "\n",
    "> The **span** of a set of vectors is the set of all points obtainable by **linear combination** of the original vectors.\n",
    "\n",
    "The **linear combination** of a set of 2 vectors is effectively their *weighted sum*.  \n",
    "\n",
    "To visualize this, we can take the so-called \"column picture\" of our equation $Ax = b$:"
   ]
  },
  {
   "cell_type": "markdown",
   "metadata": {},
   "source": [
    "Let's take a set of two vectors $x_1$ and $x_2$:\n",
    "\n",
    "$$\\Large x_1 = \\begin{bmatrix} 0.56 \\\\ 0.59 \\end{bmatrix} $$\n",
    "\n",
    "$$\\Large x_2 = \\begin{bmatrix} 0.86 \\\\ 0.88 \\end{bmatrix} $$\n",
    "\n",
    "The **linear combination** of these two numbers is the sum of each multiplied some scalar weight, i.e:\n",
    "\n",
    "$$\\Large a \\begin{bmatrix} 0.86 \\\\ 0.88 \\end{bmatrix} + b \\begin{bmatrix} 0.86 \\\\ 0.88 \\end{bmatrix} $$\n",
    "\n",
    "Notice that the sum of two vectors just gives us some point on a plane. Think of the **span** as **all the vectors that you can get to in this space by linear combination of these vectors for any possible combination of weights**."
   ]
  },
  {
   "cell_type": "markdown",
   "metadata": {},
   "source": [
    "> Determining whether $Ax=b$ has a solution thus amounts to testing whether $b$ is in the span of the columns of $A$.\n",
    "\n",
    "This particular span is known as the **column space**, or the **range**, of $A$.\n",
    "\n",
    "Think of the **column space** as **the span of the column vectors in a given matrix**.\n"
   ]
  },
  {
   "cell_type": "markdown",
   "metadata": {},
   "source": [
    "### Linear Dependence \n",
    "\n",
    "> A set of vectors is **linearly independent** if no vector in the set is a linear combination of the other vectors.\n",
    "\n",
    "If two vectors are identical, or each of the values in one vector is an equal factor of all values in the other (i.e. one is a \"scaled\" version of the other, than the two vectors are not linearly dependent.  They describe the same behavior. They fall on the same line.\n",
    "\n",
    "For a matrix to have an **inverse**, it must have exactly the same number of linearly independent rows as it has columns.  If it has less, we may be under-constrained and have infinitely many solutions.  If we have more, we are overconstrained and will have no unique solution.\n",
    "\n",
    "> Another way of looking at this is to say that to solve a linear system of $n$ unknowns using matrix inversion, we must have precisely $m$ linearly independent equations, where $m$ and $n$ are equal - that is, we have a **square matrix**.\n",
    "\n",
    "A **singular matrix** is a **square matrix** where all of the columns are **linearly dependent**"
   ]
  },
  {
   "cell_type": "code",
   "execution_count": null,
   "metadata": {},
   "outputs": [],
   "source": []
  }
 ],
 "metadata": {
  "kernelspec": {
   "display_name": "Python 3",
   "language": "python",
   "name": "python3"
  },
  "language_info": {
   "codemirror_mode": {
    "name": "ipython",
    "version": 3
   },
   "file_extension": ".py",
   "mimetype": "text/x-python",
   "name": "python",
   "nbconvert_exporter": "python",
   "pygments_lexer": "ipython3",
   "version": "3.8.5"
  }
 },
 "nbformat": 4,
 "nbformat_minor": 4
}
