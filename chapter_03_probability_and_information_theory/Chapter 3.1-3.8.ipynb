{
 "cells": [
  {
   "cell_type": "code",
   "execution_count": 1,
   "metadata": {},
   "outputs": [],
   "source": [
    "import numpy as np\n",
    "from scipy.stats import norm, uniform, pareto, chi2, poisson\n",
    "import matplotlib.pyplot as plt"
   ]
  },
  {
   "cell_type": "markdown",
   "metadata": {},
   "source": [
    "# Chapter 3: Probability and Information Theory"
   ]
  },
  {
   "cell_type": "markdown",
   "metadata": {},
   "source": [
    "__Probability Theory__ is the branch of mathematics concerned with how likely an event is to occur or how likely a proposition is true.  The probability of an event is expressed as a value between 0 and 1, where 0 represents the impossibility of an event and 1 represents certainty.\n",
    "\n",
    "In the context of artificial intelligence, probability theory is used:\n",
    "\n",
    "- To design algorithms that compute or approximate values\n",
    "- To analyze the behavior of systems"
   ]
  },
  {
   "cell_type": "markdown",
   "metadata": {},
   "source": [
    "## 3.1 Why Probability?"
   ]
  },
  {
   "cell_type": "markdown",
   "metadata": {},
   "source": [
    "Whereas most of computer science deals with behavior that we can consider to be deterministic - i.e. the non-deterministic aspects of much of what we deal with when writing software does not come into consideration.\n",
    "\n",
    "__Machine learning__ inherently deals with uncertaintity and even __stochastic__ values - random, unpredictable values.\n",
    "\n",
    "### Sources of uncertainty:\n",
    "\n",
    "1 - __Inherent stochasticity__, e.g. quantum mechanical systems; a game with a shuffled deck of cards.\n",
    "\n",
    "2 - __Incomplete observability__, i.e. we cannot observe complete information\n",
    "\n",
    "3 - __Incomplete modeling__, i.e. lack of precision in a compuational model of some phenomenon"
   ]
  },
  {
   "cell_type": "markdown",
   "metadata": {},
   "source": [
    "### Cost / benefit tradeoffs when building systems\n",
    "\n",
    "It's typically more cost-effective to build systems that simple rules that introduce uncertainty than to develop a complex system that results in greater certainty."
   ]
  },
  {
   "cell_type": "markdown",
   "metadata": {},
   "source": [
    "### Frequentist vs Bayesian Probability\n",
    "\n",
    "The __Bayesian__ view of probability is the measure of the plausibility of an event given incomplete knowledge, while the __frequentist__ view of probability is related to the rate at which actual events occur.\n",
    "\n",
    "In other words, a __frequentist__ world-view is one in which we measure probability given the outcomes over time of real events, and a __Bayesian__ world-view is one in which we measure probability as a __degree of belief__ - the plausibility of an event given existing data."
   ]
  },
  {
   "cell_type": "markdown",
   "metadata": {},
   "source": [
    "## 3.2 Random Variables"
   ]
  },
  {
   "cell_type": "markdown",
   "metadata": {},
   "source": [
    "A __random variable__ is one that may take different values randomly.  These values may be __discrete__, meaning the data can take only certain values - or any value in a countably infinite number of states (e.g. \"False\", \"Blue\", \"Monday\") or __continuous__, meaning the data can take any arbitrary value (e.g. 19.86)"
   ]
  },
  {
   "cell_type": "code",
   "execution_count": 2,
   "metadata": {},
   "outputs": [
    {
     "data": {
      "text/plain": [
       "array([53, 89, 89, 59])"
      ]
     },
     "execution_count": 2,
     "metadata": {},
     "output_type": "execute_result"
    }
   ],
   "source": [
    "# Random number generation in numPy:\n",
    "\n",
    "np.random.randint(low=1, high=100, size=4)"
   ]
  },
  {
   "cell_type": "markdown",
   "metadata": {},
   "source": [
    "Random values produced with numPy utilize the `Generator` class.\n",
    "\n",
    "NumPy Generators expose several different methods to generate random numbers from a variety of different probability distribution.\n",
    "\n",
    "The standard `Generator` in numPy uses a different algorithm than the default Python generator.\n",
    "\n",
    "- PCG-64 (numPy default)\n",
    "- MT19937 (Python standard)\n",
    "- Philox\n",
    "- SFC64\n",
    "\n",
    "> A BitGenerator provides a stream of random values. In order to generate reproducible streams, BitGenerators support setting their initial state via a seed. All of the provided BitGenerators will take an arbitrary-sized non-negative integer, or a list of such integers, as a seed.\n",
    "(https://numpy.org/doc/stable/reference/random/bit_generators/index.html)\n",
    "\n",
    "Random number generators can be provided an initial seed, which allows us reproducability. \n",
    "\n",
    "Given an initial seed, the resulting sequence is deterministic."
   ]
  },
  {
   "cell_type": "code",
   "execution_count": 3,
   "metadata": {},
   "outputs": [
    {
     "name": "stdout",
     "output_type": "stream",
     "text": [
      "MT19937 (Mersenne Twister) Generator with seed 88\n",
      "0.1370688215702759\n",
      "---\n",
      "PCG64 (permuted congruential generator) with seed 88\n",
      "0.20624530978985023\n"
     ]
    }
   ],
   "source": [
    "from numpy.random import Generator, MT19937, PCG64, SeedSequence\n",
    "print(\"MT19937 (Mersenne Twister) Generator with seed 88\")\n",
    "mt_rng = Generator(MT19937(88))\n",
    "print(mt_rng.random())\n",
    "\n",
    "print(\"---\")\n",
    "print(\"PCG64 (permuted congruential generator) with seed 88\")\n",
    "pc_rng = Generator(PCG64(88))\n",
    "print(pc_rng.random())"
   ]
  },
  {
   "cell_type": "markdown",
   "metadata": {},
   "source": [
    "Website of the PCG author, very interesting comparison of different generators, and the theory of PCG:\n",
    "    \n",
    "https://www.pcg-random.org/"
   ]
  },
  {
   "cell_type": "markdown",
   "metadata": {},
   "source": [
    "## 3.3 Probability Distributions"
   ]
  },
  {
   "cell_type": "markdown",
   "metadata": {},
   "source": [
    "A __random variable__ takes on some possible state.  A __probability distribution__ is a function that gives the probabilities of occurence of the different possible outcomes of a __random variable__.\n",
    "\n",
    "The probability that a random variable x = $x$ is the case is denoted as:\n",
    "\n",
    "$$ \\Large P(x) $$\n",
    "\n",
    "`scipy` provides a stats module that exposes many different continuous and discrete probability distributions."
   ]
  },
  {
   "cell_type": "markdown",
   "metadata": {},
   "source": [
    "### Continuous Probability Distributions\n",
    "\n",
    "\n",
    "Discrete probability distributions can be described using __probability density functions__.\n",
    "\n",
    "- The domain of p must be the set of all possible states of $x$.\n",
    "- $\\forall x \\in \\text{x}, p(x) \\geq 0$\n",
    "- $\\int p(x)dx = 1$"
   ]
  },
  {
   "cell_type": "markdown",
   "metadata": {},
   "source": [
    "### Normal Distribution"
   ]
  },
  {
   "cell_type": "code",
   "execution_count": 4,
   "metadata": {},
   "outputs": [
    {
     "data": {
      "image/png": "[encoded data removed]",
      "text/plain": [
       "<Figure size 432x288 with 1 Axes>"
      ]
     },
     "metadata": {
      "needs_background": "light"
     },
     "output_type": "display_data"
    }
   ],
   "source": [
    "fig, ax = plt.subplots(1, 1)\n",
    "mean, var, skew, kurt = norm.stats(moments='mvsk')\n",
    "x = np.linspace(norm.ppf(0.01), norm.ppf(0.99), 100)\n",
    "ax.plot(x, norm.pdf(x), 'r-', lw=5, alpha=0.6, label='norm pdf')\n",
    "r = norm.rvs(size=1000)\n",
    "ax.hist(r, density=True, histtype='stepfilled', alpha=0.2)\n",
    "ax.legend(loc='best', frameon=False)\n",
    "plt.show()"
   ]
  },
  {
   "cell_type": "markdown",
   "metadata": {},
   "source": [
    "### Uniform Distribution\n",
    "\n",
    "A uniform distribution describes a situation in which a given state is equally probable for any given random variable."
   ]
  },
  {
   "cell_type": "code",
   "execution_count": 5,
   "metadata": {},
   "outputs": [
    {
     "data": {
      "image/png": "[encoded data removed]",
      "text/plain": [
       "<Figure size 432x288 with 1 Axes>"
      ]
     },
     "metadata": {
      "needs_background": "light"
     },
     "output_type": "display_data"
    }
   ],
   "source": [
    "fig, ax = plt.subplots(1, 1)\n",
    "mean, var, skew, kurt = uniform.stats(moments='mvsk')\n",
    "x = np.linspace(uniform.ppf(0.01), uniform.ppf(0.99), 100)\n",
    "ax.plot(x, uniform.pdf(x), 'r-', lw=5, alpha=0.6, label='uniform pdf')\n",
    "r = uniform.rvs(size=1000)\n",
    "ax.hist(r, density=True, histtype='stepfilled', alpha=0.2)\n",
    "ax.legend(loc='best', frameon=False)\n",
    "plt.show()"
   ]
  },
  {
   "cell_type": "markdown",
   "metadata": {},
   "source": [
    "### Pareto Distribution"
   ]
  },
  {
   "cell_type": "code",
   "execution_count": 68,
   "metadata": {},
   "outputs": [
    {
     "data": {
      "image/png": "[encoded data removed]",
      "text/plain": [
       "<Figure size 432x288 with 1 Axes>"
      ]
     },
     "metadata": {
      "needs_background": "light"
     },
     "output_type": "display_data"
    }
   ],
   "source": [
    "fig, ax = plt.subplots(1, 1)\n",
    "b = 12\n",
    "mean, var, skew, kurt = pareto.stats(b, moments='mvsk')\n",
    "x = np.linspace(pareto.ppf(0, b), pareto.ppf(0.99, b), 100)\n",
    "ax.plot(x, pareto.pdf(x, b),'r-', lw=5, alpha=0.6, label='pareto pdf')\n",
    "\n",
    "r = pareto.rvs(b, size=1000)\n",
    "ax.hist(r, density=True, histtype='stepfilled', alpha=0.2)\n",
    "ax.legend(loc='best', frameon=False)\n",
    "plt.show()"
   ]
  },
  {
   "cell_type": "markdown",
   "metadata": {},
   "source": [
    "### Discrete Probability Distributions\n",
    "\n",
    "Discrete probability distributions can be described using __probability mass functions__.\n",
    "\n",
    "- The domain of P must be the set of all possible states of x.\n",
    "- $\\forall x \\in \\text{x}, 0 \\leq P(x) \\leq 1$\n",
    "- $\\sum_{x \\in \\text{x}} P(x) = 1$"
   ]
  },
  {
   "cell_type": "markdown",
   "metadata": {},
   "source": [
    "### Poisson Distribution"
   ]
  },
  {
   "cell_type": "markdown",
   "metadata": {},
   "source": [
    "> a discrete probability distribution that expresses the probability of a given number of events occurring in a fixed interval of time or space if these events occur with a known constant rate and independently of the time since the last event. (https://en.wikipedia.org/wiki/Poisson_distribution)\n",
    "\n",
    "The Poisson Distribution is used to determine the probability of a number of events in an interval generated by a __Poisson process__.  A __Poisson process__ is a model of __discrete__ events where we know the average time between events that happen at random intervals.\n",
    "\n",
    "This can be useful for predicting how often a number events occur in a given time poeriod given the length of the period of time and the number of events that occur on average per unit of time.  For the Poisson distribution to be a valid model, we assume the following: \n",
    "\n",
    "- The events are independent\n",
    "- The average number of events per unit time is constant \n",
    "- The events don’t occur simultaneously\n",
    "\n",
    "The Poisson probability mass function:\n",
    "\n",
    "$$ \\Large P(k) = e^{-\\lambda} \\frac{\\lambda^{k}}{k!} $$\n",
    "\n",
    "$$ \\large k = \\text{events in interval} $$\n",
    "$$ \\large \\lambda = \\text{events / time * time period} $$\n",
    "\n",
    "### Practical Example Problem: \n",
    "\n",
    "> \"Given an email service, on average, is invoked by a client once every 15 minutes over a one hour period, what is the probability that the service will be invoked exactly three times over the next hour?\"\n",
    "\n",
    "Let's assume that service calls do not occur simultaneously."
   ]
  },
  {
   "cell_type": "markdown",
   "metadata": {},
   "source": [
    "Using the example above, our $\\lambda$ for unit of time as minutes would be:\n",
    "\n",
    "$$ \\large \\lambda = (n/t) * dt \\Rightarrow \\frac{1 \\text{ call}}{15 \\text{ minutes}} \\times 60 \\text{ minutes} = 4 \\text{ calls expected per hour}$$ \n",
    "\n",
    "$$ \\large \\lambda = 4 $$"
   ]
  },
  {
   "cell_type": "markdown",
   "metadata": {},
   "source": [
    "And the probability that exactly three service calls will be invoked during the next two hour period can be expressed as:\n",
    "\n",
    "$$ \\Large P(3 \\text{ calls in hour}) = e^{-4} \\frac{-64}{3!} = 0.0183 \\times 10.66 \\approx 0.195 \\Rightarrow 19.5 \\% $$"
   ]
  },
  {
   "cell_type": "code",
   "execution_count": 77,
   "metadata": {},
   "outputs": [
    {
     "data": {
      "text/plain": [
       "<matplotlib.collections.LineCollection at 0x1263d10d0>"
      ]
     },
     "execution_count": 77,
     "metadata": {},
     "output_type": "execute_result"
    },
    {
     "data": {
      "image/png": "[encoded data removed]",
      "text/plain": [
       "<Figure size 432x288 with 1 Axes>"
      ]
     },
     "metadata": {
      "needs_background": "light"
     },
     "output_type": "display_data"
    }
   ],
   "source": [
    "fig, ax = plt.subplots(1, 1)\n",
    "plt.xticks(np.arange(min(x), max(x)+1, 1.0))\n",
    "plt.xlabel(\"Service Calls\")\n",
    "plt.ylabel(\"Probability\")\n",
    "\n",
    "k = 3\n",
    "lambda_ = 4\n",
    "mean, var, skew, kurt = poisson.stats(lambda_, moments='mvsk')\n",
    "\n",
    "x = np.arange(poisson.ppf(0, lambda_), 20)\n",
    "ax.plot(x, poisson.pmf(x, lambda_), 'r-', lw=5, ms=8, alpha=0.5, label='poisson pmf')\n",
    "ax.vlines(x, 0, poisson.pmf(x, lambda_), colors='b', lw=10, alpha=0.3)"
   ]
  },
  {
   "cell_type": "markdown",
   "metadata": {},
   "source": [
    "## 3.4 Marginal Probability"
   ]
  },
  {
   "cell_type": "code",
   "execution_count": null,
   "metadata": {},
   "outputs": [],
   "source": []
  },
  {
   "cell_type": "markdown",
   "metadata": {},
   "source": [
    "## 3.5 Conditional Probability"
   ]
  },
  {
   "cell_type": "code",
   "execution_count": null,
   "metadata": {},
   "outputs": [],
   "source": []
  },
  {
   "cell_type": "markdown",
   "metadata": {},
   "source": [
    "## 3.6 The Chain Rule of Conditional Probabilities"
   ]
  },
  {
   "cell_type": "code",
   "execution_count": null,
   "metadata": {},
   "outputs": [],
   "source": []
  },
  {
   "cell_type": "markdown",
   "metadata": {},
   "source": [
    "## 3.7 Independence and Conditional Independence"
   ]
  },
  {
   "cell_type": "code",
   "execution_count": null,
   "metadata": {},
   "outputs": [],
   "source": []
  },
  {
   "cell_type": "markdown",
   "metadata": {},
   "source": [
    "## 3.8 Expectation, Variance, and Covariance"
   ]
  },
  {
   "cell_type": "code",
   "execution_count": null,
   "metadata": {},
   "outputs": [],
   "source": []
  }
 ],
 "metadata": {
  "kernelspec": {
   "display_name": "Python 3",
   "language": "python",
   "name": "python3"
  },
  "language_info": {
   "codemirror_mode": {
    "name": "ipython",
    "version": 3
   },
   "file_extension": ".py",
   "mimetype": "text/x-python",
   "name": "python",
   "nbconvert_exporter": "python",
   "pygments_lexer": "ipython3",
   "version": "3.8.5"
  }
 },
 "nbformat": 4,
 "nbformat_minor": 4
}
