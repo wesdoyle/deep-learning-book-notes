{
 "cells": [
  {
   "cell_type": "code",
   "execution_count": 2,
   "metadata": {},
   "outputs": [],
   "source": [
    "import numpy as np"
   ]
  },
  {
   "cell_type": "markdown",
   "metadata": {},
   "source": [
    "# Chapter 3: Probability and Information Theory"
   ]
  },
  {
   "cell_type": "markdown",
   "metadata": {},
   "source": [
    "__Probability Theory__ is the branch of mathematics concerned with how likely an event is to occur or how likely a proposition is true.  The probability of an event is expressed as a value between 0 and 1, where 0 represents the impossibility of an event and 1 represents certainty.\n",
    "\n",
    "In the context of artificial intelligence, probability theory is used:\n",
    "\n",
    "- To design algorithms that compute or approximate values\n",
    "- To analyze the behavior of systems"
   ]
  },
  {
   "cell_type": "markdown",
   "metadata": {},
   "source": [
    "## 3.1 Why Probability?"
   ]
  },
  {
   "cell_type": "markdown",
   "metadata": {},
   "source": [
    "Whereas most of computer science deals with behavior that we can consider to be deterministic - i.e. the non-deterministic aspects of much of what we deal with when writing software does not come into consideration.\n",
    "\n",
    "__Machine learning__ inherently deals with uncertaintity and even __stochastic__ values - random, unpredictable values.\n",
    "\n",
    "### Sources of uncertainty:\n",
    "\n",
    "1 - __Inherent stochasticity__, e.g. quantum mechanical systems; a game with a shuffled deck of cards.\n",
    "\n",
    "2 - __Incomplete observability__, i.e. we cannot observe complete information\n",
    "\n",
    "3 - __Incomplete modeling__, i.e. lack of precision in a compuational model of some phenomenon"
   ]
  },
  {
   "cell_type": "markdown",
   "metadata": {},
   "source": [
    "### Cost / benefit tradeoffs when building systems\n",
    "\n",
    "It's typically more cost-effective to build systems that simple rules that introduce uncertainty than to develop a complex system that results in greater certainty."
   ]
  },
  {
   "cell_type": "markdown",
   "metadata": {},
   "source": [
    "### Frequentist vs Bayesian Probability\n",
    "\n",
    "The __Bayesian__ view of probability is the measure of the plausibility of an event given incomplete knowledge, while the __frequentist__ view of probability is related to the rate at which actual events occur.\n",
    "\n",
    "In other words, a __frequentist__ world-view is one in which we measure probability given the outcomes over time of real events, and a __Bayesian__ world-view is one in which we measure probability as a __degree of belief__ - the plausibility of an event given existing data."
   ]
  },
  {
   "cell_type": "markdown",
   "metadata": {},
   "source": [
    "## 3.2 Random Variables"
   ]
  },
  {
   "cell_type": "markdown",
   "metadata": {},
   "source": [
    "A __random variable__ is one that may take different values randomly.  These values may be __discrete__, meaning the data can take only certain values - or any value in a countably infinite number of states (e.g. \"False\", \"Blue\", \"Monday\") or __continuous__, meaning the data can take any arbitrary value (e.g. 19.86)"
   ]
  },
  {
   "cell_type": "code",
   "execution_count": 4,
   "metadata": {},
   "outputs": [
    {
     "data": {
      "text/plain": [
       "array([ 8,  4, 72, 80])"
      ]
     },
     "execution_count": 4,
     "metadata": {},
     "output_type": "execute_result"
    }
   ],
   "source": [
    "# Random number generation in numPy:\n",
    "\n",
    "np.random.randint(low=1, high=100, size=4)"
   ]
  },
  {
   "cell_type": "markdown",
   "metadata": {},
   "source": [
    "Random values produced with numPy utilize the `Generator` class.\n",
    "\n",
    "NumPy Generators expose several different methods to generate random numbers from a variety of different probability distribution.\n",
    "\n",
    "The standard `Generator` in numPy uses a different algorithm than the default Python generator.\n",
    "\n",
    "- PCG-64 (numPy default)\n",
    "- MT19937 (Python standard)\n",
    "- Philox\n",
    "- SFC64\n",
    "\n",
    "> A BitGenerator provides a stream of random values. In order to generate reproducible streams, BitGenerators support setting their initial state via a seed. All of the provided BitGenerators will take an arbitrary-sized non-negative integer, or a list of such integers, as a seed.\n",
    "(https://numpy.org/doc/stable/reference/random/bit_generators/index.html)\n",
    "\n",
    "Random number generators can be provided an initial seed, which allows us reproducability. \n",
    "\n",
    "Given an initial seed, the resulting sequence is deterministic."
   ]
  },
  {
   "cell_type": "code",
   "execution_count": 31,
   "metadata": {},
   "outputs": [
    {
     "name": "stdout",
     "output_type": "stream",
     "text": [
      "MT19937 (Mersenne Twister) Generator with seed 88\n",
      "0.1370688215702759\n",
      "---\n",
      "PCG64 (permuted congruential generator) with seed 88\n",
      "0.20624530978985023\n"
     ]
    }
   ],
   "source": [
    "from numpy.random import Generator, MT19937, PCG64, SeedSequence\n",
    "print(\"MT19937 (Mersenne Twister) Generator with seed 88\")\n",
    "mt_rng = Generator(MT19937(88))\n",
    "print(mt_rng.random())\n",
    "\n",
    "print(\"---\")\n",
    "print(\"PCG64 (permuted congruential generator) with seed 88\")\n",
    "pc_rng = Generator(PCG64(88))\n",
    "print(pc_rng.random())"
   ]
  },
  {
   "cell_type": "markdown",
   "metadata": {},
   "source": [
    "Website of the PCG author, very interesting comparison of different generators, and the theory of PCG:\n",
    "    \n",
    "https://www.pcg-random.org/"
   ]
  },
  {
   "cell_type": "markdown",
   "metadata": {},
   "source": [
    "## 3.3 Probability Distributions"
   ]
  },
  {
   "cell_type": "code",
   "execution_count": null,
   "metadata": {},
   "outputs": [],
   "source": []
  },
  {
   "cell_type": "markdown",
   "metadata": {},
   "source": [
    "## 3.4 Marginal Probability"
   ]
  },
  {
   "cell_type": "code",
   "execution_count": null,
   "metadata": {},
   "outputs": [],
   "source": []
  },
  {
   "cell_type": "markdown",
   "metadata": {},
   "source": [
    "## 3.5 Conditional Probability"
   ]
  },
  {
   "cell_type": "code",
   "execution_count": null,
   "metadata": {},
   "outputs": [],
   "source": []
  },
  {
   "cell_type": "markdown",
   "metadata": {},
   "source": [
    "## 3.6 The Chain Rule of Conditional Probabilities"
   ]
  },
  {
   "cell_type": "code",
   "execution_count": null,
   "metadata": {},
   "outputs": [],
   "source": []
  },
  {
   "cell_type": "markdown",
   "metadata": {},
   "source": [
    "## 3.7 Independence and Conditional Independence"
   ]
  },
  {
   "cell_type": "code",
   "execution_count": null,
   "metadata": {},
   "outputs": [],
   "source": []
  },
  {
   "cell_type": "markdown",
   "metadata": {},
   "source": [
    "## 3.8 Expectation, Variance, and Covariance"
   ]
  },
  {
   "cell_type": "code",
   "execution_count": null,
   "metadata": {},
   "outputs": [],
   "source": []
  },
  {
   "cell_type": "code",
   "execution_count": null,
   "metadata": {},
   "outputs": [],
   "source": []
  }
 ],
 "metadata": {
  "kernelspec": {
   "display_name": "Python 3",
   "language": "python",
   "name": "python3"
  },
  "language_info": {
   "codemirror_mode": {
    "name": "ipython",
    "version": 3
   },
   "file_extension": ".py",
   "mimetype": "text/x-python",
   "name": "python",
   "nbconvert_exporter": "python",
   "pygments_lexer": "ipython3",
   "version": "3.8.5"
  }
 },
 "nbformat": 4,
 "nbformat_minor": 4
}
